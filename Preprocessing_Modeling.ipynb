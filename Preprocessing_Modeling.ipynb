{
 "cells": [
  {
   "cell_type": "code",
   "execution_count": 1,
   "metadata": {
    "colab": {
     "base_uri": "https://localhost:8080/"
    },
    "id": "rXFR3zr-nDth",
    "outputId": "79098ebf-ae23-4b34-fd3d-e56c2fde0405"
   },
   "outputs": [],
   "source": [
    "#from google.colab import drive\n",
    "#drive.mount('/content/drive', force_remount=True)\n",
    "import pandas as pd\n",
    "import numpy as np\n",
    "import datetime"
   ]
  },
  {
   "cell_type": "markdown",
   "metadata": {
    "id": "G53_wu3Obztc"
   },
   "source": [
    "## DATASET 1: nft_sales.csv\n",
    "## used for analysis"
   ]
  },
  {
   "cell_type": "code",
   "execution_count": 3,
   "metadata": {
    "colab": {
     "base_uri": "https://localhost:8080/"
    },
    "id": "379WiMrZb_VC",
    "outputId": "26cf479b-3cec-45a4-a143-34d497215418"
   },
   "outputs": [
    {
     "name": "stderr",
     "output_type": "stream",
     "text": [
      "c:\\users\\divya\\appdata\\local\\programs\\python\\python37\\lib\\site-packages\\IPython\\core\\interactiveshell.py:3441: DtypeWarning: Columns (14) have mixed types.Specify dtype option on import or set low_memory=False.\n",
      "  exec(code_obj, self.user_global_ns, self.user_ns)\n"
     ]
    }
   ],
   "source": [
    "#data1=pd.read_csv(\"/content/drive/MyDrive/DSCI 560 Project/data/nft_sales.csv\")\n",
    "data1=pd.read_csv('Data/nft_sales.csv')"
   ]
  },
  {
   "cell_type": "code",
   "execution_count": 4,
   "metadata": {
    "colab": {
     "base_uri": "https://localhost:8080/",
     "height": 461
    },
    "id": "U6arxc5H4ms2",
    "outputId": "6b216f53-d721-4f53-d932-ab9c89c5ea70"
   },
   "outputs": [
    {
     "data": {
      "text/html": [
       "<div>\n",
       "<style scoped>\n",
       "    .dataframe tbody tr th:only-of-type {\n",
       "        vertical-align: middle;\n",
       "    }\n",
       "\n",
       "    .dataframe tbody tr th {\n",
       "        vertical-align: top;\n",
       "    }\n",
       "\n",
       "    .dataframe thead th {\n",
       "        text-align: right;\n",
       "    }\n",
       "</style>\n",
       "<table border=\"1\" class=\"dataframe\">\n",
       "  <thead>\n",
       "    <tr style=\"text-align: right;\">\n",
       "      <th></th>\n",
       "      <th>Unnamed: 0</th>\n",
       "      <th>collection_slug</th>\n",
       "      <th>collection_name</th>\n",
       "      <th>collection_url</th>\n",
       "      <th>asset_id</th>\n",
       "      <th>asset_name</th>\n",
       "      <th>asset_description</th>\n",
       "      <th>asset_contract_date</th>\n",
       "      <th>asset_url</th>\n",
       "      <th>asset_img_url</th>\n",
       "      <th>event_id</th>\n",
       "      <th>event_time</th>\n",
       "      <th>event_auction_type</th>\n",
       "      <th>event_contract_address</th>\n",
       "      <th>event_quantity</th>\n",
       "      <th>event_payment_symbol</th>\n",
       "      <th>event_total_price</th>\n",
       "    </tr>\n",
       "  </thead>\n",
       "  <tbody>\n",
       "    <tr>\n",
       "      <th>0</th>\n",
       "      <td>0</td>\n",
       "      <td>rarible</td>\n",
       "      <td>Rarible</td>\n",
       "      <td>https://opensea.io/collection/rarible</td>\n",
       "      <td>18214580</td>\n",
       "      <td>Daft Punk Never Die</td>\n",
       "      <td>Piece of art, Daft Punk, always in our hears.\\...</td>\n",
       "      <td>2020-05-27T16:53:32.834583</td>\n",
       "      <td>https://opensea.io/assets/0xd07dc4262bcdbf8519...</td>\n",
       "      <td>https://lh3.googleusercontent.com/DRaz3AD6SNrC...</td>\n",
       "      <td>80762268</td>\n",
       "      <td>2021-02-27T23:59:19.806617</td>\n",
       "      <td>dutch</td>\n",
       "      <td>0xcd4ec7b66fbc029c116ba9ffb3e59351c20b5b06</td>\n",
       "      <td>1</td>\n",
       "      <td>ETH</td>\n",
       "      <td>0.070000</td>\n",
       "    </tr>\n",
       "    <tr>\n",
       "      <th>1</th>\n",
       "      <td>1</td>\n",
       "      <td>rarebit-bunnies</td>\n",
       "      <td>Rarebit Bunnies</td>\n",
       "      <td>https://opensea.io/collection/rarebit-bunnies</td>\n",
       "      <td>18276844</td>\n",
       "      <td>Rarebit #164 - Wax Off Bunny</td>\n",
       "      <td>🐇♥️ When it comes to high kicks this Rarebit's...</td>\n",
       "      <td>2021-01-21T20:43:08.113711</td>\n",
       "      <td>https://opensea.io/assets/0x61bd6b10c7bf3e548f...</td>\n",
       "      <td>https://lh3.googleusercontent.com/zI7j5Gc8jcJ_...</td>\n",
       "      <td>80762142</td>\n",
       "      <td>2021-02-27T23:58:48.806004</td>\n",
       "      <td>dutch</td>\n",
       "      <td>0xcd4ec7b66fbc029c116ba9ffb3e59351c20b5b06</td>\n",
       "      <td>1</td>\n",
       "      <td>ETH</td>\n",
       "      <td>0.150000</td>\n",
       "    </tr>\n",
       "    <tr>\n",
       "      <th>2</th>\n",
       "      <td>2</td>\n",
       "      <td>rarible</td>\n",
       "      <td>Rarible</td>\n",
       "      <td>https://opensea.io/collection/rarible</td>\n",
       "      <td>16911700</td>\n",
       "      <td>Meditation</td>\n",
       "      <td>Meditation by Diana.\\n\\nMinted only 20 NFT col...</td>\n",
       "      <td>2020-05-27T16:53:32.834583</td>\n",
       "      <td>https://opensea.io/assets/0xd07dc4262bcdbf8519...</td>\n",
       "      <td>https://lh3.googleusercontent.com/VxNjqW9b0yKv...</td>\n",
       "      <td>80762131</td>\n",
       "      <td>2021-02-27T23:58:46.805355</td>\n",
       "      <td>dutch</td>\n",
       "      <td>0xcd4ec7b66fbc029c116ba9ffb3e59351c20b5b06</td>\n",
       "      <td>1</td>\n",
       "      <td>ETH</td>\n",
       "      <td>0.001000</td>\n",
       "    </tr>\n",
       "    <tr>\n",
       "      <th>3</th>\n",
       "      <td>3</td>\n",
       "      <td>rarible</td>\n",
       "      <td>Rarible</td>\n",
       "      <td>https://opensea.io/collection/rarible</td>\n",
       "      <td>16986936</td>\n",
       "      <td>I´m OG</td>\n",
       "      <td>This is one of the first NFTs in human history</td>\n",
       "      <td>2020-05-27T16:53:32.834583</td>\n",
       "      <td>https://opensea.io/assets/0xd07dc4262bcdbf8519...</td>\n",
       "      <td>https://lh3.googleusercontent.com/lwLuEUsHn2bd...</td>\n",
       "      <td>80762121</td>\n",
       "      <td>2021-02-27T23:58:45.675259</td>\n",
       "      <td>dutch</td>\n",
       "      <td>0xcd4ec7b66fbc029c116ba9ffb3e59351c20b5b06</td>\n",
       "      <td>1</td>\n",
       "      <td>ETH</td>\n",
       "      <td>0.000647</td>\n",
       "    </tr>\n",
       "    <tr>\n",
       "      <th>4</th>\n",
       "      <td>4</td>\n",
       "      <td>chainguardians</td>\n",
       "      <td>ChainGuardians</td>\n",
       "      <td>https://opensea.io/collection/chainguardians</td>\n",
       "      <td>13382164</td>\n",
       "      <td>Celia B100 #105</td>\n",
       "      <td>One of the original androids created within th...</td>\n",
       "      <td>2019-11-17T21:00:18.404059</td>\n",
       "      <td>https://opensea.io/assets/0x4fe99deb8f0be517c3...</td>\n",
       "      <td>https://lh3.googleusercontent.com/ODEhFsO_E_O8...</td>\n",
       "      <td>80762099</td>\n",
       "      <td>2021-02-27T23:58:43.700969</td>\n",
       "      <td>NaN</td>\n",
       "      <td>0x7be8076f4ea4a4ad08075c2508e481d6c946d12b</td>\n",
       "      <td>1</td>\n",
       "      <td>ETH</td>\n",
       "      <td>0.200000</td>\n",
       "    </tr>\n",
       "  </tbody>\n",
       "</table>\n",
       "</div>"
      ],
      "text/plain": [
       "   Unnamed: 0  collection_slug  collection_name  \\\n",
       "0           0          rarible          Rarible   \n",
       "1           1  rarebit-bunnies  Rarebit Bunnies   \n",
       "2           2          rarible          Rarible   \n",
       "3           3          rarible          Rarible   \n",
       "4           4   chainguardians   ChainGuardians   \n",
       "\n",
       "                                  collection_url  asset_id  \\\n",
       "0          https://opensea.io/collection/rarible  18214580   \n",
       "1  https://opensea.io/collection/rarebit-bunnies  18276844   \n",
       "2          https://opensea.io/collection/rarible  16911700   \n",
       "3          https://opensea.io/collection/rarible  16986936   \n",
       "4   https://opensea.io/collection/chainguardians  13382164   \n",
       "\n",
       "                     asset_name  \\\n",
       "0           Daft Punk Never Die   \n",
       "1  Rarebit #164 - Wax Off Bunny   \n",
       "2                    Meditation   \n",
       "3                        I´m OG   \n",
       "4               Celia B100 #105   \n",
       "\n",
       "                                   asset_description  \\\n",
       "0  Piece of art, Daft Punk, always in our hears.\\...   \n",
       "1  🐇♥️ When it comes to high kicks this Rarebit's...   \n",
       "2  Meditation by Diana.\\n\\nMinted only 20 NFT col...   \n",
       "3     This is one of the first NFTs in human history   \n",
       "4  One of the original androids created within th...   \n",
       "\n",
       "          asset_contract_date  \\\n",
       "0  2020-05-27T16:53:32.834583   \n",
       "1  2021-01-21T20:43:08.113711   \n",
       "2  2020-05-27T16:53:32.834583   \n",
       "3  2020-05-27T16:53:32.834583   \n",
       "4  2019-11-17T21:00:18.404059   \n",
       "\n",
       "                                           asset_url  \\\n",
       "0  https://opensea.io/assets/0xd07dc4262bcdbf8519...   \n",
       "1  https://opensea.io/assets/0x61bd6b10c7bf3e548f...   \n",
       "2  https://opensea.io/assets/0xd07dc4262bcdbf8519...   \n",
       "3  https://opensea.io/assets/0xd07dc4262bcdbf8519...   \n",
       "4  https://opensea.io/assets/0x4fe99deb8f0be517c3...   \n",
       "\n",
       "                                       asset_img_url  event_id  \\\n",
       "0  https://lh3.googleusercontent.com/DRaz3AD6SNrC...  80762268   \n",
       "1  https://lh3.googleusercontent.com/zI7j5Gc8jcJ_...  80762142   \n",
       "2  https://lh3.googleusercontent.com/VxNjqW9b0yKv...  80762131   \n",
       "3  https://lh3.googleusercontent.com/lwLuEUsHn2bd...  80762121   \n",
       "4  https://lh3.googleusercontent.com/ODEhFsO_E_O8...  80762099   \n",
       "\n",
       "                   event_time event_auction_type  \\\n",
       "0  2021-02-27T23:59:19.806617              dutch   \n",
       "1  2021-02-27T23:58:48.806004              dutch   \n",
       "2  2021-02-27T23:58:46.805355              dutch   \n",
       "3  2021-02-27T23:58:45.675259              dutch   \n",
       "4  2021-02-27T23:58:43.700969                NaN   \n",
       "\n",
       "                       event_contract_address event_quantity  \\\n",
       "0  0xcd4ec7b66fbc029c116ba9ffb3e59351c20b5b06              1   \n",
       "1  0xcd4ec7b66fbc029c116ba9ffb3e59351c20b5b06              1   \n",
       "2  0xcd4ec7b66fbc029c116ba9ffb3e59351c20b5b06              1   \n",
       "3  0xcd4ec7b66fbc029c116ba9ffb3e59351c20b5b06              1   \n",
       "4  0x7be8076f4ea4a4ad08075c2508e481d6c946d12b              1   \n",
       "\n",
       "  event_payment_symbol  event_total_price  \n",
       "0                  ETH           0.070000  \n",
       "1                  ETH           0.150000  \n",
       "2                  ETH           0.001000  \n",
       "3                  ETH           0.000647  \n",
       "4                  ETH           0.200000  "
      ]
     },
     "execution_count": 4,
     "metadata": {},
     "output_type": "execute_result"
    }
   ],
   "source": [
    "data1.head()"
   ]
  },
  {
   "cell_type": "code",
   "execution_count": 5,
   "metadata": {
    "colab": {
     "base_uri": "https://localhost:8080/"
    },
    "id": "tjbeCgl44n5Q",
    "outputId": "7f8817c6-ed1e-4520-c7fa-a815e80f2731"
   },
   "outputs": [
    {
     "data": {
      "text/plain": [
       "(108147, 17)"
      ]
     },
     "execution_count": 5,
     "metadata": {},
     "output_type": "execute_result"
    }
   ],
   "source": [
    "data1.shape"
   ]
  },
  {
   "cell_type": "code",
   "execution_count": 6,
   "metadata": {
    "colab": {
     "base_uri": "https://localhost:8080/"
    },
    "id": "-zQW_k9A4o7z",
    "outputId": "1ea69b25-0292-46b3-f823-916bebd8f894"
   },
   "outputs": [
    {
     "data": {
      "text/plain": [
       "Index(['Unnamed: 0', 'collection_slug', 'collection_name', 'collection_url',\n",
       "       'asset_id', 'asset_name', 'asset_description', 'asset_contract_date',\n",
       "       'asset_url', 'asset_img_url', 'event_id', 'event_time',\n",
       "       'event_auction_type', 'event_contract_address', 'event_quantity',\n",
       "       'event_payment_symbol', 'event_total_price'],\n",
       "      dtype='object')"
      ]
     },
     "execution_count": 6,
     "metadata": {},
     "output_type": "execute_result"
    }
   ],
   "source": [
    "data1.columns"
   ]
  },
  {
   "cell_type": "code",
   "execution_count": 7,
   "metadata": {
    "id": "E4B4JL_64tSv"
   },
   "outputs": [],
   "source": [
    "data1['event_auction_type'].fillna(\"dutch\", inplace = True)"
   ]
  },
  {
   "cell_type": "code",
   "execution_count": 8,
   "metadata": {
    "colab": {
     "base_uri": "https://localhost:8080/"
    },
    "id": "VAWP5ouP52Bl",
    "outputId": "168b50b6-fd74-4bdd-aa0f-911744084af9"
   },
   "outputs": [
    {
     "data": {
      "text/plain": [
       "Unnamed: 0                  int64\n",
       "collection_slug            object\n",
       "collection_name            object\n",
       "collection_url             object\n",
       "asset_id                    int64\n",
       "asset_name                 object\n",
       "asset_description          object\n",
       "asset_contract_date        object\n",
       "asset_url                  object\n",
       "asset_img_url              object\n",
       "event_id                    int64\n",
       "event_time                 object\n",
       "event_auction_type         object\n",
       "event_contract_address     object\n",
       "event_quantity             object\n",
       "event_payment_symbol       object\n",
       "event_total_price         float64\n",
       "dtype: object"
      ]
     },
     "execution_count": 8,
     "metadata": {},
     "output_type": "execute_result"
    }
   ],
   "source": [
    "data1.dtypes"
   ]
  },
  {
   "cell_type": "code",
   "execution_count": 9,
   "metadata": {
    "id": "FV6Ia0h356t0"
   },
   "outputs": [],
   "source": [
    "data1['event_time']= pd.to_datetime(data1['event_time'])"
   ]
  },
  {
   "cell_type": "code",
   "execution_count": 10,
   "metadata": {
    "id": "mI7Hk0Zw5_e0"
   },
   "outputs": [],
   "source": [
    "data1['date'] = data1['event_time'].dt.date\n",
    "data1['time'] = data1['event_time'].dt.time\n"
   ]
  },
  {
   "cell_type": "code",
   "execution_count": 11,
   "metadata": {
    "colab": {
     "base_uri": "https://localhost:8080/"
    },
    "id": "KXLTjCkQ6I44",
    "outputId": "33beb989-4928-4d34-839a-f0d914758549"
   },
   "outputs": [
    {
     "data": {
      "text/plain": [
       "ETH       106409\n",
       "MANA         455\n",
       "DAI          273\n",
       "SAND         162\n",
       "USDC         140\n",
       "UNI          111\n",
       "PGU           98\n",
       "RARI          76\n",
       "ELAND         73\n",
       "GALA          39\n",
       "REVV          39\n",
       "ABST          36\n",
       "MEME          34\n",
       "BONDLY        27\n",
       "DENA          18\n",
       "ECAT          18\n",
       "ARCONA        17\n",
       "SMTS          12\n",
       "ROPE          10\n",
       "TRSH           8\n",
       "ENJ            7\n",
       "WHALE          6\n",
       "ART            5\n",
       "KLTR           5\n",
       "MGDv2          5\n",
       "CUBE           4\n",
       "ASLT           4\n",
       "SKULL          4\n",
       "ATRI           4\n",
       "PPDEX          3\n",
       "DHC            3\n",
       "MORK           3\n",
       "WCK            3\n",
       "SURF           2\n",
       "GUSD           2\n",
       "GR1M           2\n",
       "HUE            2\n",
       "CRED           1\n",
       "MBC            1\n",
       "WIPC           1\n",
       "KAP            1\n",
       "NUGS           1\n",
       "0xBTC          1\n",
       "VI             1\n",
       "FTM            1\n",
       "YUMI           1\n",
       "BONES          1\n",
       "FUD            1\n",
       "BAT            1\n",
       "NDR            1\n",
       "Name: event_payment_symbol, dtype: int64"
      ]
     },
     "execution_count": 11,
     "metadata": {},
     "output_type": "execute_result"
    }
   ],
   "source": [
    "data1.loc[data1[\"event_payment_symbol\"] == \"WETH\", \"event_payment_symbol\"] = 'ETH'\n",
    "data1['event_payment_symbol'].value_counts()"
   ]
  },
  {
   "cell_type": "code",
   "execution_count": 12,
   "metadata": {
    "colab": {
     "base_uri": "https://localhost:8080/"
    },
    "id": "-Sp_ZlR46XJV",
    "outputId": "d18b6624-caf8-4ff7-f7e9-cb3f606a78c6"
   },
   "outputs": [
    {
     "data": {
      "text/plain": [
       "ETH    106409\n",
       "Name: event_payment_symbol, dtype: int64"
      ]
     },
     "execution_count": 12,
     "metadata": {},
     "output_type": "execute_result"
    }
   ],
   "source": [
    "data1 = data1[data1.event_payment_symbol == 'ETH']\n",
    "data1['event_payment_symbol'].value_counts()"
   ]
  },
  {
   "cell_type": "code",
   "execution_count": 13,
   "metadata": {
    "colab": {
     "base_uri": "https://localhost:8080/"
    },
    "id": "l0bO5sFAjIsg",
    "outputId": "c3bbc86a-6999-45dd-c96d-871611a1ce6d"
   },
   "outputs": [
    {
     "data": {
      "text/plain": [
       "0         https://lh3.googleusercontent.com/DRaz3AD6SNrC...\n",
       "1         https://lh3.googleusercontent.com/zI7j5Gc8jcJ_...\n",
       "2         https://lh3.googleusercontent.com/VxNjqW9b0yKv...\n",
       "3         https://lh3.googleusercontent.com/lwLuEUsHn2bd...\n",
       "4         https://lh3.googleusercontent.com/ODEhFsO_E_O8...\n",
       "                                ...                        \n",
       "108142    https://lh3.googleusercontent.com/XzrOx1uNWMki...\n",
       "108143    https://lh3.googleusercontent.com/wLsjC0cFEFED...\n",
       "108144    https://lh3.googleusercontent.com/n45zWe8BSxx3...\n",
       "108145    https://lh3.googleusercontent.com/zULek6_cD-RY...\n",
       "108146    https://lh3.googleusercontent.com/OffGc0XyzPAD...\n",
       "Name: asset_img_url, Length: 106409, dtype: object"
      ]
     },
     "execution_count": 13,
     "metadata": {},
     "output_type": "execute_result"
    }
   ],
   "source": [
    "data1['asset_img_url']"
   ]
  },
  {
   "cell_type": "code",
   "execution_count": 14,
   "metadata": {
    "colab": {
     "base_uri": "https://localhost:8080/",
     "height": 424
    },
    "id": "sumMNLDDjtP9",
    "outputId": "62396deb-e42a-42e7-da77-cc4cb1374927"
   },
   "outputs": [
    {
     "data": {
      "text/html": [
       "<div>\n",
       "<style scoped>\n",
       "    .dataframe tbody tr th:only-of-type {\n",
       "        vertical-align: middle;\n",
       "    }\n",
       "\n",
       "    .dataframe tbody tr th {\n",
       "        vertical-align: top;\n",
       "    }\n",
       "\n",
       "    .dataframe thead th {\n",
       "        text-align: right;\n",
       "    }\n",
       "</style>\n",
       "<table border=\"1\" class=\"dataframe\">\n",
       "  <thead>\n",
       "    <tr style=\"text-align: right;\">\n",
       "      <th></th>\n",
       "      <th>collection_slug</th>\n",
       "      <th>collection_name</th>\n",
       "    </tr>\n",
       "  </thead>\n",
       "  <tbody>\n",
       "    <tr>\n",
       "      <th>0</th>\n",
       "      <td>rarible</td>\n",
       "      <td>Rarible</td>\n",
       "    </tr>\n",
       "    <tr>\n",
       "      <th>1</th>\n",
       "      <td>rarebit-bunnies</td>\n",
       "      <td>Rarebit Bunnies</td>\n",
       "    </tr>\n",
       "    <tr>\n",
       "      <th>2</th>\n",
       "      <td>rarible</td>\n",
       "      <td>Rarible</td>\n",
       "    </tr>\n",
       "    <tr>\n",
       "      <th>3</th>\n",
       "      <td>rarible</td>\n",
       "      <td>Rarible</td>\n",
       "    </tr>\n",
       "    <tr>\n",
       "      <th>4</th>\n",
       "      <td>chainguardians</td>\n",
       "      <td>ChainGuardians</td>\n",
       "    </tr>\n",
       "    <tr>\n",
       "      <th>...</th>\n",
       "      <td>...</td>\n",
       "      <td>...</td>\n",
       "    </tr>\n",
       "    <tr>\n",
       "      <th>108142</th>\n",
       "      <td>pixel-glass-by-kai</td>\n",
       "      <td>Pixel Glass by kai</td>\n",
       "    </tr>\n",
       "    <tr>\n",
       "      <th>108143</th>\n",
       "      <td>rarible</td>\n",
       "      <td>Rarible</td>\n",
       "    </tr>\n",
       "    <tr>\n",
       "      <th>108144</th>\n",
       "      <td>cryptokitties</td>\n",
       "      <td>CryptoKitties</td>\n",
       "    </tr>\n",
       "    <tr>\n",
       "      <th>108145</th>\n",
       "      <td>league-of-kingdoms</td>\n",
       "      <td>League of Kingdoms (Ethereum)</td>\n",
       "    </tr>\n",
       "    <tr>\n",
       "      <th>108146</th>\n",
       "      <td>mattia-cuttini-produkt-1</td>\n",
       "      <td>Mattia Cuttini Produkt</td>\n",
       "    </tr>\n",
       "  </tbody>\n",
       "</table>\n",
       "<p>106409 rows × 2 columns</p>\n",
       "</div>"
      ],
      "text/plain": [
       "                 collection_slug                collection_name\n",
       "0                        rarible                        Rarible\n",
       "1                rarebit-bunnies                Rarebit Bunnies\n",
       "2                        rarible                        Rarible\n",
       "3                        rarible                        Rarible\n",
       "4                 chainguardians                 ChainGuardians\n",
       "...                          ...                            ...\n",
       "108142        pixel-glass-by-kai             Pixel Glass by kai\n",
       "108143                   rarible                        Rarible\n",
       "108144             cryptokitties                  CryptoKitties\n",
       "108145        league-of-kingdoms  League of Kingdoms (Ethereum)\n",
       "108146  mattia-cuttini-produkt-1         Mattia Cuttini Produkt\n",
       "\n",
       "[106409 rows x 2 columns]"
      ]
     },
     "execution_count": 14,
     "metadata": {},
     "output_type": "execute_result"
    }
   ],
   "source": [
    "data1.loc[:,['collection_slug','collection_name']] # same name, can drop slug"
   ]
  },
  {
   "cell_type": "code",
   "execution_count": 15,
   "metadata": {
    "colab": {
     "base_uri": "https://localhost:8080/"
    },
    "id": "aQgGZKbi8TU7",
    "outputId": "a8e36d8b-6668-4e43-a4f3-423500a76c61"
   },
   "outputs": [],
   "source": [
    "data1.drop(columns=['Unnamed: 0', 'event_auction_type','event_time','event_payment_symbol','asset_img_url','collection_slug'], axis = 1,inplace=True)\n"
   ]
  },
  {
   "cell_type": "code",
   "execution_count": 16,
   "metadata": {
    "colab": {
     "base_uri": "https://localhost:8080/",
     "height": 444
    },
    "id": "Z6bOywULkFf9",
    "outputId": "cb548cc3-672d-447f-fc45-c37b962da39b"
   },
   "outputs": [
    {
     "data": {
      "text/html": [
       "<div>\n",
       "<style scoped>\n",
       "    .dataframe tbody tr th:only-of-type {\n",
       "        vertical-align: middle;\n",
       "    }\n",
       "\n",
       "    .dataframe tbody tr th {\n",
       "        vertical-align: top;\n",
       "    }\n",
       "\n",
       "    .dataframe thead th {\n",
       "        text-align: right;\n",
       "    }\n",
       "</style>\n",
       "<table border=\"1\" class=\"dataframe\">\n",
       "  <thead>\n",
       "    <tr style=\"text-align: right;\">\n",
       "      <th></th>\n",
       "      <th>collection_name</th>\n",
       "      <th>collection_url</th>\n",
       "      <th>asset_id</th>\n",
       "      <th>asset_name</th>\n",
       "      <th>asset_description</th>\n",
       "      <th>asset_contract_date</th>\n",
       "      <th>asset_url</th>\n",
       "      <th>event_id</th>\n",
       "      <th>event_contract_address</th>\n",
       "      <th>event_quantity</th>\n",
       "      <th>event_total_price</th>\n",
       "      <th>date</th>\n",
       "      <th>time</th>\n",
       "    </tr>\n",
       "  </thead>\n",
       "  <tbody>\n",
       "    <tr>\n",
       "      <th>0</th>\n",
       "      <td>Rarible</td>\n",
       "      <td>https://opensea.io/collection/rarible</td>\n",
       "      <td>18214580</td>\n",
       "      <td>Daft Punk Never Die</td>\n",
       "      <td>Piece of art, Daft Punk, always in our hears.\\...</td>\n",
       "      <td>2020-05-27T16:53:32.834583</td>\n",
       "      <td>https://opensea.io/assets/0xd07dc4262bcdbf8519...</td>\n",
       "      <td>80762268</td>\n",
       "      <td>0xcd4ec7b66fbc029c116ba9ffb3e59351c20b5b06</td>\n",
       "      <td>1</td>\n",
       "      <td>0.070000</td>\n",
       "      <td>2021-02-27</td>\n",
       "      <td>23:59:19.806617</td>\n",
       "    </tr>\n",
       "    <tr>\n",
       "      <th>1</th>\n",
       "      <td>Rarebit Bunnies</td>\n",
       "      <td>https://opensea.io/collection/rarebit-bunnies</td>\n",
       "      <td>18276844</td>\n",
       "      <td>Rarebit #164 - Wax Off Bunny</td>\n",
       "      <td>🐇♥️ When it comes to high kicks this Rarebit's...</td>\n",
       "      <td>2021-01-21T20:43:08.113711</td>\n",
       "      <td>https://opensea.io/assets/0x61bd6b10c7bf3e548f...</td>\n",
       "      <td>80762142</td>\n",
       "      <td>0xcd4ec7b66fbc029c116ba9ffb3e59351c20b5b06</td>\n",
       "      <td>1</td>\n",
       "      <td>0.150000</td>\n",
       "      <td>2021-02-27</td>\n",
       "      <td>23:58:48.806004</td>\n",
       "    </tr>\n",
       "    <tr>\n",
       "      <th>2</th>\n",
       "      <td>Rarible</td>\n",
       "      <td>https://opensea.io/collection/rarible</td>\n",
       "      <td>16911700</td>\n",
       "      <td>Meditation</td>\n",
       "      <td>Meditation by Diana.\\n\\nMinted only 20 NFT col...</td>\n",
       "      <td>2020-05-27T16:53:32.834583</td>\n",
       "      <td>https://opensea.io/assets/0xd07dc4262bcdbf8519...</td>\n",
       "      <td>80762131</td>\n",
       "      <td>0xcd4ec7b66fbc029c116ba9ffb3e59351c20b5b06</td>\n",
       "      <td>1</td>\n",
       "      <td>0.001000</td>\n",
       "      <td>2021-02-27</td>\n",
       "      <td>23:58:46.805355</td>\n",
       "    </tr>\n",
       "    <tr>\n",
       "      <th>3</th>\n",
       "      <td>Rarible</td>\n",
       "      <td>https://opensea.io/collection/rarible</td>\n",
       "      <td>16986936</td>\n",
       "      <td>I´m OG</td>\n",
       "      <td>This is one of the first NFTs in human history</td>\n",
       "      <td>2020-05-27T16:53:32.834583</td>\n",
       "      <td>https://opensea.io/assets/0xd07dc4262bcdbf8519...</td>\n",
       "      <td>80762121</td>\n",
       "      <td>0xcd4ec7b66fbc029c116ba9ffb3e59351c20b5b06</td>\n",
       "      <td>1</td>\n",
       "      <td>0.000647</td>\n",
       "      <td>2021-02-27</td>\n",
       "      <td>23:58:45.675259</td>\n",
       "    </tr>\n",
       "    <tr>\n",
       "      <th>4</th>\n",
       "      <td>ChainGuardians</td>\n",
       "      <td>https://opensea.io/collection/chainguardians</td>\n",
       "      <td>13382164</td>\n",
       "      <td>Celia B100 #105</td>\n",
       "      <td>One of the original androids created within th...</td>\n",
       "      <td>2019-11-17T21:00:18.404059</td>\n",
       "      <td>https://opensea.io/assets/0x4fe99deb8f0be517c3...</td>\n",
       "      <td>80762099</td>\n",
       "      <td>0x7be8076f4ea4a4ad08075c2508e481d6c946d12b</td>\n",
       "      <td>1</td>\n",
       "      <td>0.200000</td>\n",
       "      <td>2021-02-27</td>\n",
       "      <td>23:58:43.700969</td>\n",
       "    </tr>\n",
       "  </tbody>\n",
       "</table>\n",
       "</div>"
      ],
      "text/plain": [
       "   collection_name                                 collection_url  asset_id  \\\n",
       "0          Rarible          https://opensea.io/collection/rarible  18214580   \n",
       "1  Rarebit Bunnies  https://opensea.io/collection/rarebit-bunnies  18276844   \n",
       "2          Rarible          https://opensea.io/collection/rarible  16911700   \n",
       "3          Rarible          https://opensea.io/collection/rarible  16986936   \n",
       "4   ChainGuardians   https://opensea.io/collection/chainguardians  13382164   \n",
       "\n",
       "                     asset_name  \\\n",
       "0           Daft Punk Never Die   \n",
       "1  Rarebit #164 - Wax Off Bunny   \n",
       "2                    Meditation   \n",
       "3                        I´m OG   \n",
       "4               Celia B100 #105   \n",
       "\n",
       "                                   asset_description  \\\n",
       "0  Piece of art, Daft Punk, always in our hears.\\...   \n",
       "1  🐇♥️ When it comes to high kicks this Rarebit's...   \n",
       "2  Meditation by Diana.\\n\\nMinted only 20 NFT col...   \n",
       "3     This is one of the first NFTs in human history   \n",
       "4  One of the original androids created within th...   \n",
       "\n",
       "          asset_contract_date  \\\n",
       "0  2020-05-27T16:53:32.834583   \n",
       "1  2021-01-21T20:43:08.113711   \n",
       "2  2020-05-27T16:53:32.834583   \n",
       "3  2020-05-27T16:53:32.834583   \n",
       "4  2019-11-17T21:00:18.404059   \n",
       "\n",
       "                                           asset_url  event_id  \\\n",
       "0  https://opensea.io/assets/0xd07dc4262bcdbf8519...  80762268   \n",
       "1  https://opensea.io/assets/0x61bd6b10c7bf3e548f...  80762142   \n",
       "2  https://opensea.io/assets/0xd07dc4262bcdbf8519...  80762131   \n",
       "3  https://opensea.io/assets/0xd07dc4262bcdbf8519...  80762121   \n",
       "4  https://opensea.io/assets/0x4fe99deb8f0be517c3...  80762099   \n",
       "\n",
       "                       event_contract_address event_quantity  \\\n",
       "0  0xcd4ec7b66fbc029c116ba9ffb3e59351c20b5b06              1   \n",
       "1  0xcd4ec7b66fbc029c116ba9ffb3e59351c20b5b06              1   \n",
       "2  0xcd4ec7b66fbc029c116ba9ffb3e59351c20b5b06              1   \n",
       "3  0xcd4ec7b66fbc029c116ba9ffb3e59351c20b5b06              1   \n",
       "4  0x7be8076f4ea4a4ad08075c2508e481d6c946d12b              1   \n",
       "\n",
       "   event_total_price        date             time  \n",
       "0           0.070000  2021-02-27  23:59:19.806617  \n",
       "1           0.150000  2021-02-27  23:58:48.806004  \n",
       "2           0.001000  2021-02-27  23:58:46.805355  \n",
       "3           0.000647  2021-02-27  23:58:45.675259  \n",
       "4           0.200000  2021-02-27  23:58:43.700969  "
      ]
     },
     "execution_count": 16,
     "metadata": {},
     "output_type": "execute_result"
    }
   ],
   "source": [
    "data1.head()"
   ]
  },
  {
   "cell_type": "markdown",
   "metadata": {
    "id": "emOF3fnCkThH"
   },
   "source": [
    "# Dataset2: nft.csv\n",
    "## used for model"
   ]
  },
  {
   "cell_type": "code",
   "execution_count": 80,
   "metadata": {
    "colab": {
     "base_uri": "https://localhost:8080/"
    },
    "id": "4CF_AKWidryy",
    "outputId": "6589ca9f-3972-46ed-9ff9-ba5e21c715e2"
   },
   "outputs": [
    {
     "name": "stderr",
     "output_type": "stream",
     "text": [
      "c:\\users\\divya\\appdata\\local\\programs\\python\\python37\\lib\\site-packages\\IPython\\core\\interactiveshell.py:3441: DtypeWarning: Columns (0,2,8,9,10) have mixed types.Specify dtype option on import or set low_memory=False.\n",
      "  exec(code_obj, self.user_global_ns, self.user_ns)\n"
     ]
    }
   ],
   "source": [
    "#data2=pd.read_csv(\"/content/drive/MyDri|ve/DSCI 560 Project/data/nft.csv\")\n",
    "data2=pd.read_csv(\"Data/nft.csv\")"
   ]
  },
  {
   "cell_type": "code",
   "execution_count": 81,
   "metadata": {
    "colab": {
     "base_uri": "https://localhost:8080/",
     "height": 386
    },
    "id": "LE6f1OCXkHNx",
    "outputId": "935a2e46-e7aa-4a03-8d9e-b18cf33a5d75"
   },
   "outputs": [
    {
     "data": {
      "text/html": [
       "<div>\n",
       "<style scoped>\n",
       "    .dataframe tbody tr th:only-of-type {\n",
       "        vertical-align: middle;\n",
       "    }\n",
       "\n",
       "    .dataframe tbody tr th {\n",
       "        vertical-align: top;\n",
       "    }\n",
       "\n",
       "    .dataframe thead th {\n",
       "        text-align: right;\n",
       "    }\n",
       "</style>\n",
       "<table border=\"1\" class=\"dataframe\">\n",
       "  <thead>\n",
       "    <tr style=\"text-align: right;\">\n",
       "      <th></th>\n",
       "      <th>Smart_contract</th>\n",
       "      <th>ID_token</th>\n",
       "      <th>Transaction_hash</th>\n",
       "      <th>Seller_address</th>\n",
       "      <th>Seller_username</th>\n",
       "      <th>Buyer_address</th>\n",
       "      <th>Buyer_username</th>\n",
       "      <th>Image_url_1</th>\n",
       "      <th>Image_url_2</th>\n",
       "      <th>Image_url_3</th>\n",
       "      <th>...</th>\n",
       "      <th>Name</th>\n",
       "      <th>Description</th>\n",
       "      <th>Collection</th>\n",
       "      <th>Market</th>\n",
       "      <th>Datetime_updated</th>\n",
       "      <th>Datetime_updated_seconds</th>\n",
       "      <th>Permanent_link</th>\n",
       "      <th>Unique_id_collection</th>\n",
       "      <th>Collection_cleaned</th>\n",
       "      <th>Category</th>\n",
       "    </tr>\n",
       "  </thead>\n",
       "  <tbody>\n",
       "    <tr>\n",
       "      <th>0</th>\n",
       "      <td>NaN</td>\n",
       "      <td>87094722.0</td>\n",
       "      <td>0xed9ff1c311a611e5c457ce0a49bbbb7ed55efca98842...</td>\n",
       "      <td>0x76481caa104b5f6bccb540dae4cefaf1c398ebea</td>\n",
       "      <td>NaN</td>\n",
       "      <td>0xe0fb7622091e3d9ef9b438471b10b9ea88c7cf6b</td>\n",
       "      <td>NaN</td>\n",
       "      <td>https://card.godsunchained.com/?id=33&amp;q=4</td>\n",
       "      <td>NaN</td>\n",
       "      <td>NaN</td>\n",
       "      <td>...</td>\n",
       "      <td>NaN</td>\n",
       "      <td>NaN</td>\n",
       "      <td>Godsunchained</td>\n",
       "      <td>Godsunchained</td>\n",
       "      <td>2019-11-30 00:00:00</td>\n",
       "      <td>2019-11-30 23:59:33</td>\n",
       "      <td>NaN</td>\n",
       "      <td>('Godsunchained', '87094722.0')</td>\n",
       "      <td>Godsunchained</td>\n",
       "      <td>Games</td>\n",
       "    </tr>\n",
       "    <tr>\n",
       "      <th>1</th>\n",
       "      <td>NaN</td>\n",
       "      <td>73044643.0</td>\n",
       "      <td>0xbc8412594ffa7382e8306215ece5b4e041fc641b1813...</td>\n",
       "      <td>0x76481caa104b5f6bccb540dae4cefaf1c398ebea</td>\n",
       "      <td>NaN</td>\n",
       "      <td>0x2c00d05ff7ffe93d77145dfe12aa56e622ae6f40</td>\n",
       "      <td>NaN</td>\n",
       "      <td>https://card.godsunchained.com/?id=79&amp;q=4</td>\n",
       "      <td>NaN</td>\n",
       "      <td>NaN</td>\n",
       "      <td>...</td>\n",
       "      <td>NaN</td>\n",
       "      <td>NaN</td>\n",
       "      <td>Godsunchained</td>\n",
       "      <td>Godsunchained</td>\n",
       "      <td>2019-11-30 00:00:00</td>\n",
       "      <td>2019-11-30 23:59:33</td>\n",
       "      <td>NaN</td>\n",
       "      <td>('Godsunchained', '73044643.0')</td>\n",
       "      <td>Godsunchained</td>\n",
       "      <td>Games</td>\n",
       "    </tr>\n",
       "    <tr>\n",
       "      <th>2</th>\n",
       "      <td>NaN</td>\n",
       "      <td>17107482.0</td>\n",
       "      <td>0x92672baf5e9e23de230dee8e57ddf443ab6d5a336341...</td>\n",
       "      <td>0x76481caa104b5f6bccb540dae4cefaf1c398ebea</td>\n",
       "      <td>NaN</td>\n",
       "      <td>0xe0fb7622091e3d9ef9b438471b10b9ea88c7cf6b</td>\n",
       "      <td>NaN</td>\n",
       "      <td>https://card.godsunchained.com/?id=33&amp;q=4</td>\n",
       "      <td>NaN</td>\n",
       "      <td>NaN</td>\n",
       "      <td>...</td>\n",
       "      <td>NaN</td>\n",
       "      <td>NaN</td>\n",
       "      <td>Godsunchained</td>\n",
       "      <td>Godsunchained</td>\n",
       "      <td>2019-11-30 00:00:00</td>\n",
       "      <td>2019-11-30 23:59:33</td>\n",
       "      <td>NaN</td>\n",
       "      <td>('Godsunchained', '17107482.0')</td>\n",
       "      <td>Godsunchained</td>\n",
       "      <td>Games</td>\n",
       "    </tr>\n",
       "    <tr>\n",
       "      <th>3</th>\n",
       "      <td>NaN</td>\n",
       "      <td>82230857.0</td>\n",
       "      <td>0x3d157249e3083622c2d756f07a05caa3a76687288b32...</td>\n",
       "      <td>0x76481caa104b5f6bccb540dae4cefaf1c398ebea</td>\n",
       "      <td>NaN</td>\n",
       "      <td>0x2c00d05ff7ffe93d77145dfe12aa56e622ae6f40</td>\n",
       "      <td>NaN</td>\n",
       "      <td>https://card.godsunchained.com/?id=227&amp;q=4</td>\n",
       "      <td>NaN</td>\n",
       "      <td>NaN</td>\n",
       "      <td>...</td>\n",
       "      <td>NaN</td>\n",
       "      <td>NaN</td>\n",
       "      <td>Godsunchained</td>\n",
       "      <td>Godsunchained</td>\n",
       "      <td>2019-11-30 00:00:00</td>\n",
       "      <td>2019-11-30 23:59:33</td>\n",
       "      <td>NaN</td>\n",
       "      <td>('Godsunchained', '82230857.0')</td>\n",
       "      <td>Godsunchained</td>\n",
       "      <td>Games</td>\n",
       "    </tr>\n",
       "    <tr>\n",
       "      <th>4</th>\n",
       "      <td>NaN</td>\n",
       "      <td>40925443.0</td>\n",
       "      <td>0xa892b3569dc8e6b3c7db93aade62372637ebbc61fb63...</td>\n",
       "      <td>0x76481caa104b5f6bccb540dae4cefaf1c398ebea</td>\n",
       "      <td>NaN</td>\n",
       "      <td>0x2c00d05ff7ffe93d77145dfe12aa56e622ae6f40</td>\n",
       "      <td>NaN</td>\n",
       "      <td>https://card.godsunchained.com/?id=62&amp;q=4</td>\n",
       "      <td>NaN</td>\n",
       "      <td>NaN</td>\n",
       "      <td>...</td>\n",
       "      <td>NaN</td>\n",
       "      <td>NaN</td>\n",
       "      <td>Godsunchained</td>\n",
       "      <td>Godsunchained</td>\n",
       "      <td>2019-11-30 00:00:00</td>\n",
       "      <td>2019-11-30 23:58:44</td>\n",
       "      <td>NaN</td>\n",
       "      <td>('Godsunchained', '40925443.0')</td>\n",
       "      <td>Godsunchained</td>\n",
       "      <td>Games</td>\n",
       "    </tr>\n",
       "  </tbody>\n",
       "</table>\n",
       "<p>5 rows × 24 columns</p>\n",
       "</div>"
      ],
      "text/plain": [
       "  Smart_contract    ID_token  \\\n",
       "0            NaN  87094722.0   \n",
       "1            NaN  73044643.0   \n",
       "2            NaN  17107482.0   \n",
       "3            NaN  82230857.0   \n",
       "4            NaN  40925443.0   \n",
       "\n",
       "                                    Transaction_hash  \\\n",
       "0  0xed9ff1c311a611e5c457ce0a49bbbb7ed55efca98842...   \n",
       "1  0xbc8412594ffa7382e8306215ece5b4e041fc641b1813...   \n",
       "2  0x92672baf5e9e23de230dee8e57ddf443ab6d5a336341...   \n",
       "3  0x3d157249e3083622c2d756f07a05caa3a76687288b32...   \n",
       "4  0xa892b3569dc8e6b3c7db93aade62372637ebbc61fb63...   \n",
       "\n",
       "                               Seller_address  Seller_username  \\\n",
       "0  0x76481caa104b5f6bccb540dae4cefaf1c398ebea              NaN   \n",
       "1  0x76481caa104b5f6bccb540dae4cefaf1c398ebea              NaN   \n",
       "2  0x76481caa104b5f6bccb540dae4cefaf1c398ebea              NaN   \n",
       "3  0x76481caa104b5f6bccb540dae4cefaf1c398ebea              NaN   \n",
       "4  0x76481caa104b5f6bccb540dae4cefaf1c398ebea              NaN   \n",
       "\n",
       "                                Buyer_address  Buyer_username  \\\n",
       "0  0xe0fb7622091e3d9ef9b438471b10b9ea88c7cf6b             NaN   \n",
       "1  0x2c00d05ff7ffe93d77145dfe12aa56e622ae6f40             NaN   \n",
       "2  0xe0fb7622091e3d9ef9b438471b10b9ea88c7cf6b             NaN   \n",
       "3  0x2c00d05ff7ffe93d77145dfe12aa56e622ae6f40             NaN   \n",
       "4  0x2c00d05ff7ffe93d77145dfe12aa56e622ae6f40             NaN   \n",
       "\n",
       "                                  Image_url_1 Image_url_2 Image_url_3  ...  \\\n",
       "0   https://card.godsunchained.com/?id=33&q=4         NaN         NaN  ...   \n",
       "1   https://card.godsunchained.com/?id=79&q=4         NaN         NaN  ...   \n",
       "2   https://card.godsunchained.com/?id=33&q=4         NaN         NaN  ...   \n",
       "3  https://card.godsunchained.com/?id=227&q=4         NaN         NaN  ...   \n",
       "4   https://card.godsunchained.com/?id=62&q=4         NaN         NaN  ...   \n",
       "\n",
       "  Name  Description     Collection         Market     Datetime_updated  \\\n",
       "0  NaN          NaN  Godsunchained  Godsunchained  2019-11-30 00:00:00   \n",
       "1  NaN          NaN  Godsunchained  Godsunchained  2019-11-30 00:00:00   \n",
       "2  NaN          NaN  Godsunchained  Godsunchained  2019-11-30 00:00:00   \n",
       "3  NaN          NaN  Godsunchained  Godsunchained  2019-11-30 00:00:00   \n",
       "4  NaN          NaN  Godsunchained  Godsunchained  2019-11-30 00:00:00   \n",
       "\n",
       "   Datetime_updated_seconds Permanent_link             Unique_id_collection  \\\n",
       "0       2019-11-30 23:59:33            NaN  ('Godsunchained', '87094722.0')   \n",
       "1       2019-11-30 23:59:33            NaN  ('Godsunchained', '73044643.0')   \n",
       "2       2019-11-30 23:59:33            NaN  ('Godsunchained', '17107482.0')   \n",
       "3       2019-11-30 23:59:33            NaN  ('Godsunchained', '82230857.0')   \n",
       "4       2019-11-30 23:58:44            NaN  ('Godsunchained', '40925443.0')   \n",
       "\n",
       "  Collection_cleaned Category  \n",
       "0      Godsunchained    Games  \n",
       "1      Godsunchained    Games  \n",
       "2      Godsunchained    Games  \n",
       "3      Godsunchained    Games  \n",
       "4      Godsunchained    Games  \n",
       "\n",
       "[5 rows x 24 columns]"
      ]
     },
     "execution_count": 81,
     "metadata": {},
     "output_type": "execute_result"
    }
   ],
   "source": [
    "# data2=pd.read_csv(\"/content/drive/MyDrive/DSCI 560 Project/data/nft.csv\")\n",
    "data2.head()"
   ]
  },
  {
   "cell_type": "code",
   "execution_count": 82,
   "metadata": {
    "colab": {
     "base_uri": "https://localhost:8080/"
    },
    "id": "Cn1k12lvlFXx",
    "outputId": "de6a398c-ad2f-401f-9f46-47171a9cbcdf"
   },
   "outputs": [
    {
     "data": {
      "text/plain": [
       "(1000000, 24)"
      ]
     },
     "execution_count": 82,
     "metadata": {},
     "output_type": "execute_result"
    }
   ],
   "source": [
    "data2.shape"
   ]
  },
  {
   "cell_type": "code",
   "execution_count": 83,
   "metadata": {
    "colab": {
     "base_uri": "https://localhost:8080/"
    },
    "id": "gG2pMEkNt8ut",
    "outputId": "e7254f97-8324-491a-a6bd-4823437e9b36"
   },
   "outputs": [
    {
     "data": {
      "text/plain": [
       "array(['Games', 'Art', 'Other', 'Collectible'], dtype=object)"
      ]
     },
     "execution_count": 83,
     "metadata": {},
     "output_type": "execute_result"
    }
   ],
   "source": [
    "data2['Category'].unique()"
   ]
  },
  {
   "cell_type": "code",
   "execution_count": 84,
   "metadata": {
    "colab": {
     "base_uri": "https://localhost:8080/"
    },
    "id": "M-b8i-OTuxqZ",
    "outputId": "3e209d50-2e24-4820-e3ec-0f8235a8644b"
   },
   "outputs": [
    {
     "data": {
      "text/plain": [
       "array(['Godsunchained', 'Cryptokitties', 'oghodlergang', 'anyo.b1', 'b1',\n",
       "       'thingsyousay', 'kaleidoscope', 'worth1kwords', 'gpk.topps',\n",
       "       'officialhero', 'altermoments', 'parodykidss2', 'rumspringart',\n",
       "       'tonextonenft', 'tone2studios', 'krwingerarts', 'tone2tonenft',\n",
       "       'cattifamily1', 'splintercard', 'maskofsatosh', 'badcryptonft',\n",
       "       'joeexotiger1', 'minthillmoby', '3dprintednft', 'games',\n",
       "       'politicaljok', 'allthetowers', 'spiritmole11', 'parodykidsuk',\n",
       "       'niftywizards', 'goblinsonwax', 'cheesmansart', 'dopestickers',\n",
       "       'alexartworks', 'thebrokenart', 'pepe.hero', 'matthew12345',\n",
       "       'linuxalllday', 'dripnwithwax', 'electionstwt', 'presidentiaz',\n",
       "       'ruummspringa', 'pkidsredeem1', 'itsthepeople', 'skywalkerwax',\n",
       "       'shattnermeme', 'vtgpostcards', 'organicpics1', 'numberonehub',\n",
       "       'thisismylife', 'badges.b1', 'rumspringa12', 'uplandfanart',\n",
       "       '3dpngtesting', 'solarsystem1', 'wizardxcards', 'niftysticker',\n",
       "       'oregon4lifee', 'boxmazeonwax', 'tenminuteart', 'trumpcards45',\n",
       "       'melovehaters', 'stickypeople', 'udogoodstuff', 'emporiumnfts',\n",
       "       'kittycat1111', 'atomic', 'viralsemanaz', 'testcrafter1',\n",
       "       'vigilantnfts', 'cryptocoinbl', 'deadbabiesbg', 'waxartcards1',\n",
       "       'vintagecards', 'hurtinphonez', 'gpkerrorcard', 'avatarkawaii',\n",
       "       'ajgqu.wam', '1a2b3c4d5e11', 'motobrigade1', 'safexnft5555',\n",
       "       'mashdesigner', 'aprenticeart', 'trolnoobmock', 'frozenthrone',\n",
       "       'thetoondogs1', 'athalloffame', 'pokeyforever', 'froglevelusa',\n",
       "       'fooddelivery', 'freehongkong', 'metalslugnft', 'xp',\n",
       "       'sportscards1', 'blokchainmad', 'telosnowfree', 'zanygumballs',\n",
       "       'torvisamoyed', 'smartcatsian', 'giselxtotems', 'series1waxme',\n",
       "       'bottomworks1', 'telokandaone', 'staybad4ever', 'varievarie12',\n",
       "       'eattherich4l', 'marcoticdigi', 'waxpheraldry', 'rareartdrops',\n",
       "       'saysaysay333', 'marresariels', 'medallions4u', 'preservation',\n",
       "       'waxmanseries', '4goodkarma2u', 'jesusnft1234', 'theonlykarma',\n",
       "       'spiralroulet', 'monalisanft1', 'perspectives', 'birdsnnbirbs',\n",
       "       'pxlshifttime', 'badcryptopod', 'hotsaucenfts', 'housemanches',\n",
       "       'waxforerotic', 'onchainasset', 'waxdragonsxx', 'rektrektrekt',\n",
       "       'kogsofficial', 'chibisglobal', 'girlpinupart', 'mjartworknft',\n",
       "       'upliftart', 'unlimitedwax', 'marcosdkarte', 'eosisawesome',\n",
       "       'alien.worlds', 'classeartacr', 'momentintime', 'funparodiess',\n",
       "       'hodlergoblin', 'kennbosakgif', 'finallyalign', 'zeeiofficial',\n",
       "       'majesticsea1', 'dreamcoinbit', 'maximsmaxims', 'craslhgordon',\n",
       "       'ballooneydog', 'photoartlive', 'cryptolevnet', 'specialasset',\n",
       "       'dogpatchbrew', 'uplandhotels', 'waxpackfiend', 'videogamegif',\n",
       "       'naughtynifti', 'ourlilbuddyz', 'triplethreat', '3xp3rim3ntal'],\n",
       "      dtype=object)"
      ]
     },
     "execution_count": 84,
     "metadata": {},
     "output_type": "execute_result"
    }
   ],
   "source": [
    "data2['Collection'].unique()"
   ]
  },
  {
   "cell_type": "code",
   "execution_count": 85,
   "metadata": {
    "colab": {
     "base_uri": "https://localhost:8080/",
     "height": 191
    },
    "id": "ARbtGPrXsoQT",
    "outputId": "f3bdddbf-8273-44d1-cbe3-816961d51144"
   },
   "outputs": [
    {
     "data": {
      "text/html": [
       "<div>\n",
       "<style scoped>\n",
       "    .dataframe tbody tr th:only-of-type {\n",
       "        vertical-align: middle;\n",
       "    }\n",
       "\n",
       "    .dataframe tbody tr th {\n",
       "        vertical-align: top;\n",
       "    }\n",
       "\n",
       "    .dataframe thead th {\n",
       "        text-align: right;\n",
       "    }\n",
       "</style>\n",
       "<table border=\"1\" class=\"dataframe\">\n",
       "  <thead>\n",
       "    <tr style=\"text-align: right;\">\n",
       "      <th></th>\n",
       "      <th>Smart_contract</th>\n",
       "      <th>ID_token</th>\n",
       "      <th>Transaction_hash</th>\n",
       "      <th>Seller_address</th>\n",
       "      <th>Seller_username</th>\n",
       "      <th>Buyer_address</th>\n",
       "      <th>Buyer_username</th>\n",
       "      <th>Image_url_1</th>\n",
       "      <th>Image_url_2</th>\n",
       "      <th>Image_url_3</th>\n",
       "      <th>...</th>\n",
       "      <th>Name</th>\n",
       "      <th>Description</th>\n",
       "      <th>Collection</th>\n",
       "      <th>Market</th>\n",
       "      <th>Datetime_updated</th>\n",
       "      <th>Datetime_updated_seconds</th>\n",
       "      <th>Permanent_link</th>\n",
       "      <th>Unique_id_collection</th>\n",
       "      <th>Collection_cleaned</th>\n",
       "      <th>Category</th>\n",
       "    </tr>\n",
       "  </thead>\n",
       "  <tbody>\n",
       "    <tr>\n",
       "      <th>3</th>\n",
       "      <td>NaN</td>\n",
       "      <td>82230857.0</td>\n",
       "      <td>0x3d157249e3083622c2d756f07a05caa3a76687288b32...</td>\n",
       "      <td>0x76481caa104b5f6bccb540dae4cefaf1c398ebea</td>\n",
       "      <td>NaN</td>\n",
       "      <td>0x2c00d05ff7ffe93d77145dfe12aa56e622ae6f40</td>\n",
       "      <td>NaN</td>\n",
       "      <td>https://card.godsunchained.com/?id=227&amp;q=4</td>\n",
       "      <td>NaN</td>\n",
       "      <td>NaN</td>\n",
       "      <td>...</td>\n",
       "      <td>NaN</td>\n",
       "      <td>NaN</td>\n",
       "      <td>Godsunchained</td>\n",
       "      <td>Godsunchained</td>\n",
       "      <td>2019-11-30 00:00:00</td>\n",
       "      <td>2019-11-30 23:59:33</td>\n",
       "      <td>NaN</td>\n",
       "      <td>('Godsunchained', '82230857.0')</td>\n",
       "      <td>Godsunchained</td>\n",
       "      <td>Games</td>\n",
       "    </tr>\n",
       "  </tbody>\n",
       "</table>\n",
       "<p>1 rows × 24 columns</p>\n",
       "</div>"
      ],
      "text/plain": [
       "  Smart_contract    ID_token  \\\n",
       "3            NaN  82230857.0   \n",
       "\n",
       "                                    Transaction_hash  \\\n",
       "3  0x3d157249e3083622c2d756f07a05caa3a76687288b32...   \n",
       "\n",
       "                               Seller_address  Seller_username  \\\n",
       "3  0x76481caa104b5f6bccb540dae4cefaf1c398ebea              NaN   \n",
       "\n",
       "                                Buyer_address  Buyer_username  \\\n",
       "3  0x2c00d05ff7ffe93d77145dfe12aa56e622ae6f40             NaN   \n",
       "\n",
       "                                  Image_url_1 Image_url_2 Image_url_3  ...  \\\n",
       "3  https://card.godsunchained.com/?id=227&q=4         NaN         NaN  ...   \n",
       "\n",
       "  Name  Description     Collection         Market     Datetime_updated  \\\n",
       "3  NaN          NaN  Godsunchained  Godsunchained  2019-11-30 00:00:00   \n",
       "\n",
       "   Datetime_updated_seconds Permanent_link             Unique_id_collection  \\\n",
       "3       2019-11-30 23:59:33            NaN  ('Godsunchained', '82230857.0')   \n",
       "\n",
       "  Collection_cleaned Category  \n",
       "3      Godsunchained    Games  \n",
       "\n",
       "[1 rows x 24 columns]"
      ]
     },
     "execution_count": 85,
     "metadata": {},
     "output_type": "execute_result"
    }
   ],
   "source": [
    "data2[data2['ID_token'] == 82230857.0]\n"
   ]
  },
  {
   "cell_type": "code",
   "execution_count": 86,
   "metadata": {
    "id": "l31kqP8Tk_lP"
   },
   "outputs": [],
   "source": [
    "data2['Datetime_updated'] = pd.to_datetime(data2['Datetime_updated'])\n",
    "data2['Datetime_updated_seconds'] = pd.to_datetime(data2['Datetime_updated_seconds'])"
   ]
  },
  {
   "cell_type": "code",
   "execution_count": 87,
   "metadata": {
    "colab": {
     "base_uri": "https://localhost:8080/"
    },
    "id": "-dHtFRTflrmo",
    "outputId": "39ee200a-35c0-446b-bba0-91fdcc00056e"
   },
   "outputs": [
    {
     "data": {
      "text/plain": [
       "Smart_contract               961610\n",
       "ID_token                          0\n",
       "Transaction_hash              38738\n",
       "Seller_address                    0\n",
       "Seller_username             1000000\n",
       "Buyer_address                     0\n",
       "Buyer_username              1000000\n",
       "Image_url_1                     749\n",
       "Image_url_2                  962359\n",
       "Image_url_3                  962359\n",
       "Image_url_4                  962359\n",
       "Price_Crypto                      0\n",
       "Crypto                            0\n",
       "Price_USD                       348\n",
       "Name                        1000000\n",
       "Description                 1000000\n",
       "Collection                        0\n",
       "Market                            0\n",
       "Datetime_updated                  0\n",
       "Datetime_updated_seconds          0\n",
       "Permanent_link              1000000\n",
       "Unique_id_collection              0\n",
       "Collection_cleaned                0\n",
       "Category                          0\n",
       "dtype: int64"
      ]
     },
     "execution_count": 87,
     "metadata": {},
     "output_type": "execute_result"
    }
   ],
   "source": [
    "data2.isna().sum()"
   ]
  },
  {
   "cell_type": "code",
   "execution_count": 88,
   "metadata": {
    "id": "10Gp54ndlsa2"
   },
   "outputs": [],
   "source": [
    "data2.drop(columns=['Smart_contract','Seller_username','Buyer_username','Image_url_2','Image_url_3','Image_url_4','Name','Description','Permanent_link','Unique_id_collection'],axis=1,inplace=True)"
   ]
  },
  {
   "cell_type": "code",
   "execution_count": 89,
   "metadata": {
    "colab": {
     "base_uri": "https://localhost:8080/"
    },
    "id": "-_FWwjwN7tZO",
    "outputId": "2ba8a9cc-7548-42a5-c769-297f93badf53"
   },
   "outputs": [
    {
     "data": {
      "text/plain": [
       "ETH    961610\n",
       "WAX     38390\n",
       "Name: Crypto, dtype: int64"
      ]
     },
     "execution_count": 89,
     "metadata": {},
     "output_type": "execute_result"
    }
   ],
   "source": [
    "data2['Crypto'].value_counts()"
   ]
  },
  {
   "cell_type": "code",
   "execution_count": 90,
   "metadata": {
    "colab": {
     "base_uri": "https://localhost:8080/"
    },
    "id": "YbLrRZIK72Qf",
    "outputId": "e64085fe-a53d-4cad-e1bf-3adafc912d40"
   },
   "outputs": [
    {
     "data": {
      "text/plain": [
       "ETH    961610\n",
       "WAX     38390\n",
       "Name: Crypto, dtype: int64"
      ]
     },
     "execution_count": 90,
     "metadata": {},
     "output_type": "execute_result"
    }
   ],
   "source": [
    "#datax=data2[data2['Crypto']=='ETH']\n",
    "data2['Crypto'].value_counts()"
   ]
  },
  {
   "cell_type": "code",
   "execution_count": 91,
   "metadata": {
    "colab": {
     "base_uri": "https://localhost:8080/"
    },
    "id": "PosisUYnuXS8",
    "outputId": "4d44dc75-2b9b-4149-ad96-ce2c4946eadf"
   },
   "outputs": [
    {
     "data": {
      "text/plain": [
       "Art            725412\n",
       "Games          260825\n",
       "Collectible     11335\n",
       "Other            2428\n",
       "Name: Category, dtype: int64"
      ]
     },
     "execution_count": 91,
     "metadata": {},
     "output_type": "execute_result"
    }
   ],
   "source": [
    "data2['Category'].value_counts()"
   ]
  },
  {
   "cell_type": "code",
   "execution_count": 92,
   "metadata": {
    "colab": {
     "base_uri": "https://localhost:8080/"
    },
    "id": "28I4VhxuvBGq",
    "outputId": "5f751915-dbce-439f-c57f-8aaef5a05c6c"
   },
   "outputs": [
    {
     "data": {
      "text/plain": [
       "array(['Godsunchained', 'Cryptokitties', 'oghodlergang', 'anyo.b1', 'b1',\n",
       "       'thingsyousay', 'kaleidoscope', 'worth1kwords', 'gpk.topps',\n",
       "       'officialhero', 'altermoments', 'parodykidss2', 'rumspringart',\n",
       "       'tonextonenft', 'tone2studios', 'krwingerarts', 'tone2tonenft',\n",
       "       'cattifamily1', 'splintercard', 'maskofsatosh', 'badcryptonft',\n",
       "       'joeexotiger1', 'minthillmoby', '3dprintednft', 'games',\n",
       "       'politicaljok', 'allthetowers', 'spiritmole11', 'parodykidsuk',\n",
       "       'niftywizards', 'goblinsonwax', 'cheesmansart', 'dopestickers',\n",
       "       'alexartworks', 'thebrokenart', 'pepe.hero', 'matthew12345',\n",
       "       'linuxalllday', 'dripnwithwax', 'electionstwt', 'presidentiaz',\n",
       "       'ruummspringa', 'pkidsredeem1', 'itsthepeople', 'skywalkerwax',\n",
       "       'shattnermeme', 'vtgpostcards', 'organicpics1', 'numberonehub',\n",
       "       'thisismylife', 'badges.b1', 'rumspringa12', 'uplandfanart',\n",
       "       '3dpngtesting', 'solarsystem1', 'wizardxcards', 'niftysticker',\n",
       "       'oregon4lifee', 'boxmazeonwax', 'tenminuteart', 'trumpcards45',\n",
       "       'melovehaters', 'stickypeople', 'udogoodstuff', 'emporiumnfts',\n",
       "       'kittycat1111', 'atomic', 'viralsemanaz', 'testcrafter1',\n",
       "       'vigilantnfts', 'cryptocoinbl', 'deadbabiesbg', 'waxartcards1',\n",
       "       'vintagecards', 'hurtinphonez', 'gpkerrorcard', 'avatarkawaii',\n",
       "       'ajgqu.wam', '1a2b3c4d5e11', 'motobrigade1', 'safexnft5555',\n",
       "       'mashdesigner', 'aprenticeart', 'trolnoobmock', 'frozenthrone',\n",
       "       'thetoondogs1', 'athalloffame', 'pokeyforever', 'froglevelusa',\n",
       "       'fooddelivery', 'freehongkong', 'metalslugnft', 'xp',\n",
       "       'sportscards1', 'blokchainmad', 'telosnowfree', 'zanygumballs',\n",
       "       'torvisamoyed', 'smartcatsian', 'giselxtotems', 'series1waxme',\n",
       "       'bottomworks1', 'telokandaone', 'staybad4ever', 'varievarie12',\n",
       "       'eattherich4l', 'marcoticdigi', 'waxpheraldry', 'rareartdrops',\n",
       "       'saysaysay333', 'marresariels', 'medallions4u', 'preservation',\n",
       "       'waxmanseries', '4goodkarma2u', 'jesusnft1234', 'theonlykarma',\n",
       "       'spiralroulet', 'monalisanft1', 'perspectives', 'birdsnnbirbs',\n",
       "       'pxlshifttime', 'badcryptopod', 'hotsaucenfts', 'housemanches',\n",
       "       'waxforerotic', 'onchainasset', 'waxdragonsxx', 'rektrektrekt',\n",
       "       'kogsofficial', 'chibisglobal', 'girlpinupart', 'mjartworknft',\n",
       "       'upliftart', 'unlimitedwax', 'marcosdkarte', 'eosisawesome',\n",
       "       'alien.worlds', 'classeartacr', 'momentintime', 'funparodiess',\n",
       "       'hodlergoblin', 'kennbosakgif', 'finallyalign', 'zeeiofficial',\n",
       "       'majesticsea1', 'dreamcoinbit', 'maximsmaxims', 'craslhgordon',\n",
       "       'ballooneydog', 'photoartlive', 'cryptolevnet', 'specialasset',\n",
       "       'dogpatchbrew', 'uplandhotels', 'waxpackfiend', 'videogamegif',\n",
       "       'naughtynifti', 'ourlilbuddyz', 'triplethreat', '3xp3rim3ntal'],\n",
       "      dtype=object)"
      ]
     },
     "execution_count": 92,
     "metadata": {},
     "output_type": "execute_result"
    }
   ],
   "source": [
    "data2['Collection'].unique()"
   ]
  },
  {
   "cell_type": "code",
   "execution_count": 93,
   "metadata": {
    "colab": {
     "base_uri": "https://localhost:8080/"
    },
    "id": "rZshBsos64xS",
    "outputId": "4d972460-8c42-49bb-8f64-d3ffb33df7b5"
   },
   "outputs": [
    {
     "data": {
      "text/plain": [
       "Cryptokitties    725400\n",
       "Godsunchained    236210\n",
       "kogsofficial      24216\n",
       "officialhero       6307\n",
       "gpk.topps          3393\n",
       "niftywizards        810\n",
       "upliftart           322\n",
       "cheesmansart        272\n",
       "chibisglobal        239\n",
       "pepe.hero           179\n",
       "dopestickers        179\n",
       "kaleidoscope        141\n",
       "krwingerarts        139\n",
       "niftysticker        122\n",
       "uplandfanart         88\n",
       "Name: Collection, dtype: int64"
      ]
     },
     "execution_count": 93,
     "metadata": {},
     "output_type": "execute_result"
    }
   ],
   "source": [
    "data2['Collection'].value_counts().head(15)"
   ]
  },
  {
   "cell_type": "code",
   "execution_count": 94,
   "metadata": {
    "colab": {
     "base_uri": "https://localhost:8080/"
    },
    "id": "IfxyxTvi7Tkd",
    "outputId": "9876738d-4d58-4c91-d7a8-eabad9eb38da"
   },
   "outputs": [
    {
     "data": {
      "text/plain": [
       "['Cryptokitties',\n",
       " 'Godsunchained',\n",
       " 'kogsofficial',\n",
       " 'officialhero',\n",
       " 'gpk.topps',\n",
       " 'niftywizards',\n",
       " 'upliftart',\n",
       " 'cheesmansart',\n",
       " 'chibisglobal',\n",
       " 'pepe.hero',\n",
       " 'dopestickers',\n",
       " 'kaleidoscope',\n",
       " 'krwingerarts',\n",
       " 'niftysticker',\n",
       " 'uplandfanart']"
      ]
     },
     "execution_count": 94,
     "metadata": {},
     "output_type": "execute_result"
    }
   ],
   "source": [
    "collections=list(data2['Collection'].value_counts().head(15).index)\n",
    "collections"
   ]
  },
  {
   "cell_type": "code",
   "execution_count": 95,
   "metadata": {
    "id": "lDF97Sl17Elt"
   },
   "outputs": [],
   "source": [
    "data2=data2.loc[data2['Collection'].isin(collections)]"
   ]
  },
  {
   "cell_type": "code",
   "execution_count": 96,
   "metadata": {
    "id": "7zaPuu4I761V"
   },
   "outputs": [],
   "source": [
    "data2.drop(columns=['Market','Collection_cleaned','Transaction_hash'],axis=1,inplace=True)"
   ]
  },
  {
   "cell_type": "code",
   "execution_count": 97,
   "metadata": {
    "colab": {
     "base_uri": "https://localhost:8080/",
     "height": 337
    },
    "id": "5jDurcgrl0bw",
    "outputId": "6e73545f-85ba-4a26-aa88-ce89c353f152"
   },
   "outputs": [
    {
     "data": {
      "text/html": [
       "<div>\n",
       "<style scoped>\n",
       "    .dataframe tbody tr th:only-of-type {\n",
       "        vertical-align: middle;\n",
       "    }\n",
       "\n",
       "    .dataframe tbody tr th {\n",
       "        vertical-align: top;\n",
       "    }\n",
       "\n",
       "    .dataframe thead th {\n",
       "        text-align: right;\n",
       "    }\n",
       "</style>\n",
       "<table border=\"1\" class=\"dataframe\">\n",
       "  <thead>\n",
       "    <tr style=\"text-align: right;\">\n",
       "      <th></th>\n",
       "      <th>ID_token</th>\n",
       "      <th>Seller_address</th>\n",
       "      <th>Buyer_address</th>\n",
       "      <th>Image_url_1</th>\n",
       "      <th>Price_Crypto</th>\n",
       "      <th>Crypto</th>\n",
       "      <th>Price_USD</th>\n",
       "      <th>Collection</th>\n",
       "      <th>Datetime_updated</th>\n",
       "      <th>Datetime_updated_seconds</th>\n",
       "      <th>Category</th>\n",
       "    </tr>\n",
       "  </thead>\n",
       "  <tbody>\n",
       "    <tr>\n",
       "      <th>0</th>\n",
       "      <td>87094722.0</td>\n",
       "      <td>0x76481caa104b5f6bccb540dae4cefaf1c398ebea</td>\n",
       "      <td>0xe0fb7622091e3d9ef9b438471b10b9ea88c7cf6b</td>\n",
       "      <td>https://card.godsunchained.com/?id=33&amp;q=4</td>\n",
       "      <td>0.0002</td>\n",
       "      <td>ETH</td>\n",
       "      <td>0.030318</td>\n",
       "      <td>Godsunchained</td>\n",
       "      <td>2019-11-30</td>\n",
       "      <td>2019-11-30 23:59:33</td>\n",
       "      <td>Games</td>\n",
       "    </tr>\n",
       "    <tr>\n",
       "      <th>1</th>\n",
       "      <td>73044643.0</td>\n",
       "      <td>0x76481caa104b5f6bccb540dae4cefaf1c398ebea</td>\n",
       "      <td>0x2c00d05ff7ffe93d77145dfe12aa56e622ae6f40</td>\n",
       "      <td>https://card.godsunchained.com/?id=79&amp;q=4</td>\n",
       "      <td>0.0013</td>\n",
       "      <td>ETH</td>\n",
       "      <td>0.197067</td>\n",
       "      <td>Godsunchained</td>\n",
       "      <td>2019-11-30</td>\n",
       "      <td>2019-11-30 23:59:33</td>\n",
       "      <td>Games</td>\n",
       "    </tr>\n",
       "    <tr>\n",
       "      <th>2</th>\n",
       "      <td>17107482.0</td>\n",
       "      <td>0x76481caa104b5f6bccb540dae4cefaf1c398ebea</td>\n",
       "      <td>0xe0fb7622091e3d9ef9b438471b10b9ea88c7cf6b</td>\n",
       "      <td>https://card.godsunchained.com/?id=33&amp;q=4</td>\n",
       "      <td>0.0002</td>\n",
       "      <td>ETH</td>\n",
       "      <td>0.030318</td>\n",
       "      <td>Godsunchained</td>\n",
       "      <td>2019-11-30</td>\n",
       "      <td>2019-11-30 23:59:33</td>\n",
       "      <td>Games</td>\n",
       "    </tr>\n",
       "    <tr>\n",
       "      <th>3</th>\n",
       "      <td>82230857.0</td>\n",
       "      <td>0x76481caa104b5f6bccb540dae4cefaf1c398ebea</td>\n",
       "      <td>0x2c00d05ff7ffe93d77145dfe12aa56e622ae6f40</td>\n",
       "      <td>https://card.godsunchained.com/?id=227&amp;q=4</td>\n",
       "      <td>0.0022</td>\n",
       "      <td>ETH</td>\n",
       "      <td>0.333498</td>\n",
       "      <td>Godsunchained</td>\n",
       "      <td>2019-11-30</td>\n",
       "      <td>2019-11-30 23:59:33</td>\n",
       "      <td>Games</td>\n",
       "    </tr>\n",
       "    <tr>\n",
       "      <th>4</th>\n",
       "      <td>40925443.0</td>\n",
       "      <td>0x76481caa104b5f6bccb540dae4cefaf1c398ebea</td>\n",
       "      <td>0x2c00d05ff7ffe93d77145dfe12aa56e622ae6f40</td>\n",
       "      <td>https://card.godsunchained.com/?id=62&amp;q=4</td>\n",
       "      <td>0.0012</td>\n",
       "      <td>ETH</td>\n",
       "      <td>0.181908</td>\n",
       "      <td>Godsunchained</td>\n",
       "      <td>2019-11-30</td>\n",
       "      <td>2019-11-30 23:58:44</td>\n",
       "      <td>Games</td>\n",
       "    </tr>\n",
       "  </tbody>\n",
       "</table>\n",
       "</div>"
      ],
      "text/plain": [
       "     ID_token                              Seller_address  \\\n",
       "0  87094722.0  0x76481caa104b5f6bccb540dae4cefaf1c398ebea   \n",
       "1  73044643.0  0x76481caa104b5f6bccb540dae4cefaf1c398ebea   \n",
       "2  17107482.0  0x76481caa104b5f6bccb540dae4cefaf1c398ebea   \n",
       "3  82230857.0  0x76481caa104b5f6bccb540dae4cefaf1c398ebea   \n",
       "4  40925443.0  0x76481caa104b5f6bccb540dae4cefaf1c398ebea   \n",
       "\n",
       "                                Buyer_address  \\\n",
       "0  0xe0fb7622091e3d9ef9b438471b10b9ea88c7cf6b   \n",
       "1  0x2c00d05ff7ffe93d77145dfe12aa56e622ae6f40   \n",
       "2  0xe0fb7622091e3d9ef9b438471b10b9ea88c7cf6b   \n",
       "3  0x2c00d05ff7ffe93d77145dfe12aa56e622ae6f40   \n",
       "4  0x2c00d05ff7ffe93d77145dfe12aa56e622ae6f40   \n",
       "\n",
       "                                  Image_url_1  Price_Crypto Crypto  Price_USD  \\\n",
       "0   https://card.godsunchained.com/?id=33&q=4        0.0002    ETH   0.030318   \n",
       "1   https://card.godsunchained.com/?id=79&q=4        0.0013    ETH   0.197067   \n",
       "2   https://card.godsunchained.com/?id=33&q=4        0.0002    ETH   0.030318   \n",
       "3  https://card.godsunchained.com/?id=227&q=4        0.0022    ETH   0.333498   \n",
       "4   https://card.godsunchained.com/?id=62&q=4        0.0012    ETH   0.181908   \n",
       "\n",
       "      Collection Datetime_updated Datetime_updated_seconds Category  \n",
       "0  Godsunchained       2019-11-30      2019-11-30 23:59:33    Games  \n",
       "1  Godsunchained       2019-11-30      2019-11-30 23:59:33    Games  \n",
       "2  Godsunchained       2019-11-30      2019-11-30 23:59:33    Games  \n",
       "3  Godsunchained       2019-11-30      2019-11-30 23:59:33    Games  \n",
       "4  Godsunchained       2019-11-30      2019-11-30 23:58:44    Games  "
      ]
     },
     "execution_count": 97,
     "metadata": {},
     "output_type": "execute_result"
    }
   ],
   "source": [
    "data2.head()"
   ]
  },
  {
   "cell_type": "code",
   "execution_count": 98,
   "metadata": {
    "colab": {
     "base_uri": "https://localhost:8080/"
    },
    "id": "tJPu663lnks4",
    "outputId": "1132ab2c-bda1-4eb4-817f-63a4f3bd601f"
   },
   "outputs": [
    {
     "data": {
      "text/plain": [
       "(Timestamp('2021-04-27 00:00:00'), Timestamp('2017-11-23 00:00:00'))"
      ]
     },
     "execution_count": 98,
     "metadata": {},
     "output_type": "execute_result"
    }
   ],
   "source": [
    "data2['Datetime_updated'].max(),data2['Datetime_updated'].min()"
   ]
  },
  {
   "cell_type": "code",
   "execution_count": 99,
   "metadata": {
    "id": "CUF7zao18icT"
   },
   "outputs": [],
   "source": [
    "data2['Price_USD'].fillna(value=data2['Price_USD'].mean(),inplace=True)"
   ]
  },
  {
   "cell_type": "code",
   "execution_count": 100,
   "metadata": {
    "colab": {
     "base_uri": "https://localhost:8080/"
    },
    "id": "jz_3FxnAwieJ",
    "outputId": "51744720-bfbc-481e-838f-a7ed8f22209a"
   },
   "outputs": [
    {
     "data": {
      "text/plain": [
       "1.068200e+04    10\n",
       "3.859000e+03    10\n",
       "1.475000e+03    10\n",
       "3.502270e+05    10\n",
       "2.318400e+04     9\n",
       "                ..\n",
       "3.049530e+05     1\n",
       "3.022410e+05     1\n",
       "3.004460e+05     1\n",
       "2.893060e+05     1\n",
       "1.099512e+12     1\n",
       "Name: ID_token, Length: 848552, dtype: int64"
      ]
     },
     "execution_count": 100,
     "metadata": {},
     "output_type": "execute_result"
    }
   ],
   "source": [
    "data2['ID_token'].value_counts()"
   ]
  },
  {
   "cell_type": "code",
   "execution_count": 101,
   "metadata": {
    "colab": {
     "base_uri": "https://localhost:8080/"
    },
    "id": "fTO2sBsU9h1r",
    "outputId": "067815e5-157d-40a5-9693-21f087dead33"
   },
   "outputs": [
    {
     "data": {
      "text/plain": [
       "ID_token                      0\n",
       "Seller_address                0\n",
       "Buyer_address                 0\n",
       "Image_url_1                 129\n",
       "Price_Crypto                  0\n",
       "Crypto                        0\n",
       "Price_USD                     0\n",
       "Collection                    0\n",
       "Datetime_updated              0\n",
       "Datetime_updated_seconds      0\n",
       "Category                      0\n",
       "dtype: int64"
      ]
     },
     "execution_count": 101,
     "metadata": {},
     "output_type": "execute_result"
    }
   ],
   "source": [
    "data2.isna().sum()"
   ]
  },
  {
   "cell_type": "code",
   "execution_count": 102,
   "metadata": {},
   "outputs": [
    {
     "data": {
      "text/html": [
       "<div>\n",
       "<style scoped>\n",
       "    .dataframe tbody tr th:only-of-type {\n",
       "        vertical-align: middle;\n",
       "    }\n",
       "\n",
       "    .dataframe tbody tr th {\n",
       "        vertical-align: top;\n",
       "    }\n",
       "\n",
       "    .dataframe thead th {\n",
       "        text-align: right;\n",
       "    }\n",
       "</style>\n",
       "<table border=\"1\" class=\"dataframe\">\n",
       "  <thead>\n",
       "    <tr style=\"text-align: right;\">\n",
       "      <th></th>\n",
       "      <th>ID_token</th>\n",
       "      <th>Seller_address</th>\n",
       "      <th>Buyer_address</th>\n",
       "      <th>Image_url_1</th>\n",
       "      <th>Price_Crypto</th>\n",
       "      <th>Crypto</th>\n",
       "      <th>Price_USD</th>\n",
       "      <th>Collection</th>\n",
       "      <th>Datetime_updated</th>\n",
       "      <th>Datetime_updated_seconds</th>\n",
       "      <th>Category</th>\n",
       "    </tr>\n",
       "  </thead>\n",
       "  <tbody>\n",
       "    <tr>\n",
       "      <th>0</th>\n",
       "      <td>87094722.0</td>\n",
       "      <td>0x76481caa104b5f6bccb540dae4cefaf1c398ebea</td>\n",
       "      <td>0xe0fb7622091e3d9ef9b438471b10b9ea88c7cf6b</td>\n",
       "      <td>https://card.godsunchained.com/?id=33&amp;q=4</td>\n",
       "      <td>0.0002</td>\n",
       "      <td>ETH</td>\n",
       "      <td>0.030318</td>\n",
       "      <td>Godsunchained</td>\n",
       "      <td>2019-11-30</td>\n",
       "      <td>2019-11-30 23:59:33</td>\n",
       "      <td>Games</td>\n",
       "    </tr>\n",
       "    <tr>\n",
       "      <th>1</th>\n",
       "      <td>73044643.0</td>\n",
       "      <td>0x76481caa104b5f6bccb540dae4cefaf1c398ebea</td>\n",
       "      <td>0x2c00d05ff7ffe93d77145dfe12aa56e622ae6f40</td>\n",
       "      <td>https://card.godsunchained.com/?id=79&amp;q=4</td>\n",
       "      <td>0.0013</td>\n",
       "      <td>ETH</td>\n",
       "      <td>0.197067</td>\n",
       "      <td>Godsunchained</td>\n",
       "      <td>2019-11-30</td>\n",
       "      <td>2019-11-30 23:59:33</td>\n",
       "      <td>Games</td>\n",
       "    </tr>\n",
       "    <tr>\n",
       "      <th>2</th>\n",
       "      <td>17107482.0</td>\n",
       "      <td>0x76481caa104b5f6bccb540dae4cefaf1c398ebea</td>\n",
       "      <td>0xe0fb7622091e3d9ef9b438471b10b9ea88c7cf6b</td>\n",
       "      <td>https://card.godsunchained.com/?id=33&amp;q=4</td>\n",
       "      <td>0.0002</td>\n",
       "      <td>ETH</td>\n",
       "      <td>0.030318</td>\n",
       "      <td>Godsunchained</td>\n",
       "      <td>2019-11-30</td>\n",
       "      <td>2019-11-30 23:59:33</td>\n",
       "      <td>Games</td>\n",
       "    </tr>\n",
       "    <tr>\n",
       "      <th>3</th>\n",
       "      <td>82230857.0</td>\n",
       "      <td>0x76481caa104b5f6bccb540dae4cefaf1c398ebea</td>\n",
       "      <td>0x2c00d05ff7ffe93d77145dfe12aa56e622ae6f40</td>\n",
       "      <td>https://card.godsunchained.com/?id=227&amp;q=4</td>\n",
       "      <td>0.0022</td>\n",
       "      <td>ETH</td>\n",
       "      <td>0.333498</td>\n",
       "      <td>Godsunchained</td>\n",
       "      <td>2019-11-30</td>\n",
       "      <td>2019-11-30 23:59:33</td>\n",
       "      <td>Games</td>\n",
       "    </tr>\n",
       "    <tr>\n",
       "      <th>4</th>\n",
       "      <td>40925443.0</td>\n",
       "      <td>0x76481caa104b5f6bccb540dae4cefaf1c398ebea</td>\n",
       "      <td>0x2c00d05ff7ffe93d77145dfe12aa56e622ae6f40</td>\n",
       "      <td>https://card.godsunchained.com/?id=62&amp;q=4</td>\n",
       "      <td>0.0012</td>\n",
       "      <td>ETH</td>\n",
       "      <td>0.181908</td>\n",
       "      <td>Godsunchained</td>\n",
       "      <td>2019-11-30</td>\n",
       "      <td>2019-11-30 23:58:44</td>\n",
       "      <td>Games</td>\n",
       "    </tr>\n",
       "  </tbody>\n",
       "</table>\n",
       "</div>"
      ],
      "text/plain": [
       "     ID_token                              Seller_address  \\\n",
       "0  87094722.0  0x76481caa104b5f6bccb540dae4cefaf1c398ebea   \n",
       "1  73044643.0  0x76481caa104b5f6bccb540dae4cefaf1c398ebea   \n",
       "2  17107482.0  0x76481caa104b5f6bccb540dae4cefaf1c398ebea   \n",
       "3  82230857.0  0x76481caa104b5f6bccb540dae4cefaf1c398ebea   \n",
       "4  40925443.0  0x76481caa104b5f6bccb540dae4cefaf1c398ebea   \n",
       "\n",
       "                                Buyer_address  \\\n",
       "0  0xe0fb7622091e3d9ef9b438471b10b9ea88c7cf6b   \n",
       "1  0x2c00d05ff7ffe93d77145dfe12aa56e622ae6f40   \n",
       "2  0xe0fb7622091e3d9ef9b438471b10b9ea88c7cf6b   \n",
       "3  0x2c00d05ff7ffe93d77145dfe12aa56e622ae6f40   \n",
       "4  0x2c00d05ff7ffe93d77145dfe12aa56e622ae6f40   \n",
       "\n",
       "                                  Image_url_1  Price_Crypto Crypto  Price_USD  \\\n",
       "0   https://card.godsunchained.com/?id=33&q=4        0.0002    ETH   0.030318   \n",
       "1   https://card.godsunchained.com/?id=79&q=4        0.0013    ETH   0.197067   \n",
       "2   https://card.godsunchained.com/?id=33&q=4        0.0002    ETH   0.030318   \n",
       "3  https://card.godsunchained.com/?id=227&q=4        0.0022    ETH   0.333498   \n",
       "4   https://card.godsunchained.com/?id=62&q=4        0.0012    ETH   0.181908   \n",
       "\n",
       "      Collection Datetime_updated Datetime_updated_seconds Category  \n",
       "0  Godsunchained       2019-11-30      2019-11-30 23:59:33    Games  \n",
       "1  Godsunchained       2019-11-30      2019-11-30 23:59:33    Games  \n",
       "2  Godsunchained       2019-11-30      2019-11-30 23:59:33    Games  \n",
       "3  Godsunchained       2019-11-30      2019-11-30 23:59:33    Games  \n",
       "4  Godsunchained       2019-11-30      2019-11-30 23:58:44    Games  "
      ]
     },
     "execution_count": 102,
     "metadata": {},
     "output_type": "execute_result"
    }
   ],
   "source": [
    "category_subset=data2[data2['Category']==\"Games\"]\n",
    "category_subset.head()"
   ]
  },
  {
   "cell_type": "code",
   "execution_count": 103,
   "metadata": {},
   "outputs": [
    {
     "data": {
      "text/plain": [
       "0        2019-11-30\n",
       "1        2019-11-30\n",
       "2        2019-11-30\n",
       "3        2019-11-30\n",
       "4        2019-11-30\n",
       "            ...    \n",
       "999994   2020-08-20\n",
       "999995   2020-08-20\n",
       "999996   2020-08-20\n",
       "999998   2020-08-20\n",
       "999999   2020-08-20\n",
       "Name: Datetime_updated, Length: 260665, dtype: datetime64[ns]"
      ]
     },
     "execution_count": 103,
     "metadata": {},
     "output_type": "execute_result"
    }
   ],
   "source": [
    "category_subset[\"Datetime_updated\"]"
   ]
  },
  {
   "cell_type": "code",
   "execution_count": null,
   "metadata": {},
   "outputs": [],
   "source": []
  },
  {
   "cell_type": "code",
   "execution_count": 104,
   "metadata": {},
   "outputs": [
    {
     "data": {
      "text/plain": [
       "pandas.core.frame.DataFrame"
      ]
     },
     "execution_count": 104,
     "metadata": {},
     "output_type": "execute_result"
    }
   ],
   "source": [
    "counts=data2['Collection'].value_counts().rename_axis('Collection').reset_index(name='counts')\n",
    "type(counts)"
   ]
  },
  {
   "cell_type": "code",
   "execution_count": 105,
   "metadata": {},
   "outputs": [
    {
     "data": {
      "image/png": "[encoded data removed]",
      "text/plain": [
       "<Figure size 432x288 with 1 Axes>"
      ]
     },
     "metadata": {
      "needs_background": "light"
     },
     "output_type": "display_data"
    }
   ],
   "source": [
    "ax=counts.plot.bar(x='Collection',y='counts')"
   ]
  },
  {
   "cell_type": "code",
   "execution_count": 106,
   "metadata": {},
   "outputs": [
    {
     "name": "stdout",
     "output_type": "stream",
     "text": [
      "2021-04-27 00:00:00\n"
     ]
    },
    {
     "data": {
      "text/plain": [
       "<AxesSubplot:xlabel='Datetime_updated'>"
      ]
     },
     "execution_count": 106,
     "metadata": {},
     "output_type": "execute_result"
    },
    {
     "data": {
      "image/png": "[encoded data removed]",
      "text/plain": [
       "<Figure size 432x288 with 1 Axes>"
      ]
     },
     "metadata": {
      "needs_background": "light"
     },
     "output_type": "display_data"
    }
   ],
   "source": [
    "price_data=category_subset[['Datetime_updated','Price_USD']]\n",
    "print(price_data['Datetime_updated'].max())\n",
    "price_data.set_index('Datetime_updated',inplace=True)\n",
    "price_data.plot.line()"
   ]
  },
  {
   "cell_type": "code",
   "execution_count": 107,
   "metadata": {},
   "outputs": [],
   "source": [
    "category_subset=data2[data2['Category']==\"Games\"]\n",
    "counts=category_subset['Collection'].value_counts().rename_axis('Collection').reset_index(name='counts')"
   ]
  },
  {
   "cell_type": "code",
   "execution_count": 108,
   "metadata": {},
   "outputs": [
    {
     "data": {
      "text/plain": [
       "0         8.709472e+07\n",
       "1         7.304464e+07\n",
       "2         1.710748e+07\n",
       "3         8.223086e+07\n",
       "4         4.092544e+07\n",
       "              ...     \n",
       "999994    1.099512e+12\n",
       "999995    1.099512e+12\n",
       "999996    1.099512e+12\n",
       "999998    1.099512e+12\n",
       "999999    1.099512e+12\n",
       "Name: ID_token, Length: 260665, dtype: float64"
      ]
     },
     "execution_count": 108,
     "metadata": {},
     "output_type": "execute_result"
    }
   ],
   "source": [
    "category_subset['ID_token']"
   ]
  },
  {
   "cell_type": "code",
   "execution_count": 109,
   "metadata": {},
   "outputs": [
    {
     "data": {
      "text/plain": [
       "['Godsunchained', 'kogsofficial', 'chibisglobal']"
      ]
     },
     "execution_count": 109,
     "metadata": {},
     "output_type": "execute_result"
    }
   ],
   "source": [
    "collections=list(category_subset['Collection'].value_counts().index)\n",
    "collections"
   ]
  },
  {
   "cell_type": "code",
   "execution_count": 110,
   "metadata": {},
   "outputs": [],
   "source": [
    "collection_subset=category_subset[category_subset['Collection']=='Godsunchained']"
   ]
  },
  {
   "cell_type": "code",
   "execution_count": 111,
   "metadata": {},
   "outputs": [
    {
     "data": {
      "text/html": [
       "<div>\n",
       "<style scoped>\n",
       "    .dataframe tbody tr th:only-of-type {\n",
       "        vertical-align: middle;\n",
       "    }\n",
       "\n",
       "    .dataframe tbody tr th {\n",
       "        vertical-align: top;\n",
       "    }\n",
       "\n",
       "    .dataframe thead th {\n",
       "        text-align: right;\n",
       "    }\n",
       "</style>\n",
       "<table border=\"1\" class=\"dataframe\">\n",
       "  <thead>\n",
       "    <tr style=\"text-align: right;\">\n",
       "      <th></th>\n",
       "      <th>ID_token</th>\n",
       "      <th>Seller_address</th>\n",
       "      <th>Buyer_address</th>\n",
       "      <th>Image_url_1</th>\n",
       "      <th>Price_Crypto</th>\n",
       "      <th>Crypto</th>\n",
       "      <th>Price_USD</th>\n",
       "      <th>Collection</th>\n",
       "      <th>Datetime_updated</th>\n",
       "      <th>Datetime_updated_seconds</th>\n",
       "      <th>Category</th>\n",
       "    </tr>\n",
       "  </thead>\n",
       "  <tbody>\n",
       "    <tr>\n",
       "      <th>0</th>\n",
       "      <td>87094722.0</td>\n",
       "      <td>0x76481caa104b5f6bccb540dae4cefaf1c398ebea</td>\n",
       "      <td>0xe0fb7622091e3d9ef9b438471b10b9ea88c7cf6b</td>\n",
       "      <td>https://card.godsunchained.com/?id=33&amp;q=4</td>\n",
       "      <td>0.000200</td>\n",
       "      <td>ETH</td>\n",
       "      <td>0.030318</td>\n",
       "      <td>Godsunchained</td>\n",
       "      <td>2019-11-30</td>\n",
       "      <td>2019-11-30 23:59:33</td>\n",
       "      <td>Games</td>\n",
       "    </tr>\n",
       "    <tr>\n",
       "      <th>1</th>\n",
       "      <td>73044643.0</td>\n",
       "      <td>0x76481caa104b5f6bccb540dae4cefaf1c398ebea</td>\n",
       "      <td>0x2c00d05ff7ffe93d77145dfe12aa56e622ae6f40</td>\n",
       "      <td>https://card.godsunchained.com/?id=79&amp;q=4</td>\n",
       "      <td>0.001300</td>\n",
       "      <td>ETH</td>\n",
       "      <td>0.197067</td>\n",
       "      <td>Godsunchained</td>\n",
       "      <td>2019-11-30</td>\n",
       "      <td>2019-11-30 23:59:33</td>\n",
       "      <td>Games</td>\n",
       "    </tr>\n",
       "    <tr>\n",
       "      <th>2</th>\n",
       "      <td>17107482.0</td>\n",
       "      <td>0x76481caa104b5f6bccb540dae4cefaf1c398ebea</td>\n",
       "      <td>0xe0fb7622091e3d9ef9b438471b10b9ea88c7cf6b</td>\n",
       "      <td>https://card.godsunchained.com/?id=33&amp;q=4</td>\n",
       "      <td>0.000200</td>\n",
       "      <td>ETH</td>\n",
       "      <td>0.030318</td>\n",
       "      <td>Godsunchained</td>\n",
       "      <td>2019-11-30</td>\n",
       "      <td>2019-11-30 23:59:33</td>\n",
       "      <td>Games</td>\n",
       "    </tr>\n",
       "    <tr>\n",
       "      <th>3</th>\n",
       "      <td>82230857.0</td>\n",
       "      <td>0x76481caa104b5f6bccb540dae4cefaf1c398ebea</td>\n",
       "      <td>0x2c00d05ff7ffe93d77145dfe12aa56e622ae6f40</td>\n",
       "      <td>https://card.godsunchained.com/?id=227&amp;q=4</td>\n",
       "      <td>0.002200</td>\n",
       "      <td>ETH</td>\n",
       "      <td>0.333498</td>\n",
       "      <td>Godsunchained</td>\n",
       "      <td>2019-11-30</td>\n",
       "      <td>2019-11-30 23:59:33</td>\n",
       "      <td>Games</td>\n",
       "    </tr>\n",
       "    <tr>\n",
       "      <th>4</th>\n",
       "      <td>40925443.0</td>\n",
       "      <td>0x76481caa104b5f6bccb540dae4cefaf1c398ebea</td>\n",
       "      <td>0x2c00d05ff7ffe93d77145dfe12aa56e622ae6f40</td>\n",
       "      <td>https://card.godsunchained.com/?id=62&amp;q=4</td>\n",
       "      <td>0.001200</td>\n",
       "      <td>ETH</td>\n",
       "      <td>0.181908</td>\n",
       "      <td>Godsunchained</td>\n",
       "      <td>2019-11-30</td>\n",
       "      <td>2019-11-30 23:58:44</td>\n",
       "      <td>Games</td>\n",
       "    </tr>\n",
       "    <tr>\n",
       "      <th>...</th>\n",
       "      <td>...</td>\n",
       "      <td>...</td>\n",
       "      <td>...</td>\n",
       "      <td>...</td>\n",
       "      <td>...</td>\n",
       "      <td>...</td>\n",
       "      <td>...</td>\n",
       "      <td>...</td>\n",
       "      <td>...</td>\n",
       "      <td>...</td>\n",
       "      <td>...</td>\n",
       "    </tr>\n",
       "    <tr>\n",
       "      <th>236205</th>\n",
       "      <td>20795442.0</td>\n",
       "      <td>0xb04239b53806ab31141e6cd47c63fb3480cac908</td>\n",
       "      <td>0x8011680d8e3b2fbdd7a552006eab30569b20d0bb</td>\n",
       "      <td>https://card.godsunchained.com/?id=372&amp;q=4</td>\n",
       "      <td>0.000800</td>\n",
       "      <td>ETH</td>\n",
       "      <td>1.637444</td>\n",
       "      <td>Godsunchained</td>\n",
       "      <td>2021-04-02</td>\n",
       "      <td>2021-04-02 22:17:49</td>\n",
       "      <td>Games</td>\n",
       "    </tr>\n",
       "    <tr>\n",
       "      <th>236206</th>\n",
       "      <td>112665284.0</td>\n",
       "      <td>0x6958f5e95332d93d21af0d7b9ca85b8212fee0a5</td>\n",
       "      <td>0x46cb6e53ffb34deabfbe585bbb713d062706d984</td>\n",
       "      <td>https://card.godsunchained.com/?id=155&amp;q=4</td>\n",
       "      <td>0.047777</td>\n",
       "      <td>ETH</td>\n",
       "      <td>97.790202</td>\n",
       "      <td>Godsunchained</td>\n",
       "      <td>2021-04-02</td>\n",
       "      <td>2021-04-02 15:02:57</td>\n",
       "      <td>Games</td>\n",
       "    </tr>\n",
       "    <tr>\n",
       "      <th>236207</th>\n",
       "      <td>13135799.0</td>\n",
       "      <td>0xb04239b53806ab31141e6cd47c63fb3480cac908</td>\n",
       "      <td>0x791682a63098e26d999a18c7675c23e104ec0ebf</td>\n",
       "      <td>https://card.godsunchained.com/?id=231&amp;q=4</td>\n",
       "      <td>0.020000</td>\n",
       "      <td>ETH</td>\n",
       "      <td>40.936100</td>\n",
       "      <td>Godsunchained</td>\n",
       "      <td>2021-04-02</td>\n",
       "      <td>2021-04-02 10:12:18</td>\n",
       "      <td>Games</td>\n",
       "    </tr>\n",
       "    <tr>\n",
       "      <th>236208</th>\n",
       "      <td>81912982.0</td>\n",
       "      <td>0x6958f5e95332d93d21af0d7b9ca85b8212fee0a5</td>\n",
       "      <td>0x9254f7f72bc6294ad6569d1ab78139121db880f6</td>\n",
       "      <td>https://card.godsunchained.com/?id=27&amp;q=4</td>\n",
       "      <td>0.064700</td>\n",
       "      <td>ETH</td>\n",
       "      <td>132.428283</td>\n",
       "      <td>Godsunchained</td>\n",
       "      <td>2021-04-02</td>\n",
       "      <td>2021-04-02 05:33:49</td>\n",
       "      <td>Games</td>\n",
       "    </tr>\n",
       "    <tr>\n",
       "      <th>236209</th>\n",
       "      <td>40497521.0</td>\n",
       "      <td>0xb04239b53806ab31141e6cd47c63fb3480cac908</td>\n",
       "      <td>0x8011680d8e3b2fbdd7a552006eab30569b20d0bb</td>\n",
       "      <td>https://card.godsunchained.com/?id=119&amp;q=4</td>\n",
       "      <td>0.039400</td>\n",
       "      <td>ETH</td>\n",
       "      <td>76.255351</td>\n",
       "      <td>Godsunchained</td>\n",
       "      <td>2021-04-01</td>\n",
       "      <td>2021-04-01 03:03:02</td>\n",
       "      <td>Games</td>\n",
       "    </tr>\n",
       "  </tbody>\n",
       "</table>\n",
       "<p>236210 rows × 11 columns</p>\n",
       "</div>"
      ],
      "text/plain": [
       "           ID_token                              Seller_address  \\\n",
       "0        87094722.0  0x76481caa104b5f6bccb540dae4cefaf1c398ebea   \n",
       "1        73044643.0  0x76481caa104b5f6bccb540dae4cefaf1c398ebea   \n",
       "2        17107482.0  0x76481caa104b5f6bccb540dae4cefaf1c398ebea   \n",
       "3        82230857.0  0x76481caa104b5f6bccb540dae4cefaf1c398ebea   \n",
       "4        40925443.0  0x76481caa104b5f6bccb540dae4cefaf1c398ebea   \n",
       "...             ...                                         ...   \n",
       "236205   20795442.0  0xb04239b53806ab31141e6cd47c63fb3480cac908   \n",
       "236206  112665284.0  0x6958f5e95332d93d21af0d7b9ca85b8212fee0a5   \n",
       "236207   13135799.0  0xb04239b53806ab31141e6cd47c63fb3480cac908   \n",
       "236208   81912982.0  0x6958f5e95332d93d21af0d7b9ca85b8212fee0a5   \n",
       "236209   40497521.0  0xb04239b53806ab31141e6cd47c63fb3480cac908   \n",
       "\n",
       "                                     Buyer_address  \\\n",
       "0       0xe0fb7622091e3d9ef9b438471b10b9ea88c7cf6b   \n",
       "1       0x2c00d05ff7ffe93d77145dfe12aa56e622ae6f40   \n",
       "2       0xe0fb7622091e3d9ef9b438471b10b9ea88c7cf6b   \n",
       "3       0x2c00d05ff7ffe93d77145dfe12aa56e622ae6f40   \n",
       "4       0x2c00d05ff7ffe93d77145dfe12aa56e622ae6f40   \n",
       "...                                            ...   \n",
       "236205  0x8011680d8e3b2fbdd7a552006eab30569b20d0bb   \n",
       "236206  0x46cb6e53ffb34deabfbe585bbb713d062706d984   \n",
       "236207  0x791682a63098e26d999a18c7675c23e104ec0ebf   \n",
       "236208  0x9254f7f72bc6294ad6569d1ab78139121db880f6   \n",
       "236209  0x8011680d8e3b2fbdd7a552006eab30569b20d0bb   \n",
       "\n",
       "                                       Image_url_1  Price_Crypto Crypto  \\\n",
       "0        https://card.godsunchained.com/?id=33&q=4      0.000200    ETH   \n",
       "1        https://card.godsunchained.com/?id=79&q=4      0.001300    ETH   \n",
       "2        https://card.godsunchained.com/?id=33&q=4      0.000200    ETH   \n",
       "3       https://card.godsunchained.com/?id=227&q=4      0.002200    ETH   \n",
       "4        https://card.godsunchained.com/?id=62&q=4      0.001200    ETH   \n",
       "...                                            ...           ...    ...   \n",
       "236205  https://card.godsunchained.com/?id=372&q=4      0.000800    ETH   \n",
       "236206  https://card.godsunchained.com/?id=155&q=4      0.047777    ETH   \n",
       "236207  https://card.godsunchained.com/?id=231&q=4      0.020000    ETH   \n",
       "236208   https://card.godsunchained.com/?id=27&q=4      0.064700    ETH   \n",
       "236209  https://card.godsunchained.com/?id=119&q=4      0.039400    ETH   \n",
       "\n",
       "         Price_USD     Collection Datetime_updated Datetime_updated_seconds  \\\n",
       "0         0.030318  Godsunchained       2019-11-30      2019-11-30 23:59:33   \n",
       "1         0.197067  Godsunchained       2019-11-30      2019-11-30 23:59:33   \n",
       "2         0.030318  Godsunchained       2019-11-30      2019-11-30 23:59:33   \n",
       "3         0.333498  Godsunchained       2019-11-30      2019-11-30 23:59:33   \n",
       "4         0.181908  Godsunchained       2019-11-30      2019-11-30 23:58:44   \n",
       "...            ...            ...              ...                      ...   \n",
       "236205    1.637444  Godsunchained       2021-04-02      2021-04-02 22:17:49   \n",
       "236206   97.790202  Godsunchained       2021-04-02      2021-04-02 15:02:57   \n",
       "236207   40.936100  Godsunchained       2021-04-02      2021-04-02 10:12:18   \n",
       "236208  132.428283  Godsunchained       2021-04-02      2021-04-02 05:33:49   \n",
       "236209   76.255351  Godsunchained       2021-04-01      2021-04-01 03:03:02   \n",
       "\n",
       "       Category  \n",
       "0         Games  \n",
       "1         Games  \n",
       "2         Games  \n",
       "3         Games  \n",
       "4         Games  \n",
       "...         ...  \n",
       "236205    Games  \n",
       "236206    Games  \n",
       "236207    Games  \n",
       "236208    Games  \n",
       "236209    Games  \n",
       "\n",
       "[236210 rows x 11 columns]"
      ]
     },
     "execution_count": 111,
     "metadata": {},
     "output_type": "execute_result"
    }
   ],
   "source": [
    "collection_subset"
   ]
  },
  {
   "cell_type": "code",
   "execution_count": 112,
   "metadata": {},
   "outputs": [
    {
     "data": {
      "text/plain": [
       "[87094722.0,\n",
       " 73044643.0,\n",
       " 17107482.0,\n",
       " 82230857.0,\n",
       " 40925443.0,\n",
       " 43107083.0,\n",
       " 7713824.0,\n",
       " 45951791.0,\n",
       " 5400581.0,\n",
       " 117891743.0,\n",
       " 12585149.0,\n",
       " 1730148.0,\n",
       " 103347699.0,\n",
       " 1712718.0,\n",
       " 14463019.0,\n",
       " 11813239.0,\n",
       " 31585252.0,\n",
       " 91458227.0,\n",
       " 71916386.0,\n",
       " 71916250.0]"
      ]
     },
     "execution_count": 112,
     "metadata": {},
     "output_type": "execute_result"
    }
   ],
   "source": [
    "ID=list(collection_subset['ID_token'].unique())[:20]\n",
    "ID"
   ]
  },
  {
   "cell_type": "code",
   "execution_count": 35,
   "metadata": {},
   "outputs": [
    {
     "data": {
      "text/plain": [
       "'https://card.godsunchained.com/?id=27&q=4'"
      ]
     },
     "execution_count": 35,
     "metadata": {},
     "output_type": "execute_result"
    }
   ],
   "source": [
    "x=collection_subset[collection_subset['ID_token']==1730148.0]\n",
    "image=x['Image_url_1'].values\n",
    "image[0]"
   ]
  },
  {
   "cell_type": "code",
   "execution_count": 40,
   "metadata": {},
   "outputs": [],
   "source": [
    "data2.to_csv('data2.csv')"
   ]
  },
  {
   "cell_type": "markdown",
   "metadata": {
    "id": "yORQLRdWgbho"
   },
   "source": [
    "# Model Building"
   ]
  },
  {
   "cell_type": "code",
   "execution_count": 113,
   "metadata": {
    "id": "AQaMW5wk9l0H"
   },
   "outputs": [],
   "source": [
    "data_model=data2.drop(columns=['ID_token','Seller_address','Buyer_address','Image_url_1'],axis=1)\n",
    "data_model=data_model[['Datetime_updated','Datetime_updated_seconds','Crypto','Collection','Category','Price_Crypto','Price_USD']]"
   ]
  },
  {
   "cell_type": "code",
   "execution_count": 114,
   "metadata": {
    "colab": {
     "base_uri": "https://localhost:8080/",
     "height": 206
    },
    "id": "OXvWtTtshtIM",
    "outputId": "ea359387-93ad-4b3d-ef22-6fb468043587"
   },
   "outputs": [
    {
     "data": {
      "text/html": [
       "<div>\n",
       "<style scoped>\n",
       "    .dataframe tbody tr th:only-of-type {\n",
       "        vertical-align: middle;\n",
       "    }\n",
       "\n",
       "    .dataframe tbody tr th {\n",
       "        vertical-align: top;\n",
       "    }\n",
       "\n",
       "    .dataframe thead th {\n",
       "        text-align: right;\n",
       "    }\n",
       "</style>\n",
       "<table border=\"1\" class=\"dataframe\">\n",
       "  <thead>\n",
       "    <tr style=\"text-align: right;\">\n",
       "      <th></th>\n",
       "      <th>Datetime_updated</th>\n",
       "      <th>Datetime_updated_seconds</th>\n",
       "      <th>Crypto</th>\n",
       "      <th>Collection</th>\n",
       "      <th>Category</th>\n",
       "      <th>Price_Crypto</th>\n",
       "      <th>Price_USD</th>\n",
       "    </tr>\n",
       "  </thead>\n",
       "  <tbody>\n",
       "    <tr>\n",
       "      <th>0</th>\n",
       "      <td>2019-11-30</td>\n",
       "      <td>2019-11-30 23:59:33</td>\n",
       "      <td>ETH</td>\n",
       "      <td>Godsunchained</td>\n",
       "      <td>Games</td>\n",
       "      <td>0.0002</td>\n",
       "      <td>0.030318</td>\n",
       "    </tr>\n",
       "    <tr>\n",
       "      <th>1</th>\n",
       "      <td>2019-11-30</td>\n",
       "      <td>2019-11-30 23:59:33</td>\n",
       "      <td>ETH</td>\n",
       "      <td>Godsunchained</td>\n",
       "      <td>Games</td>\n",
       "      <td>0.0013</td>\n",
       "      <td>0.197067</td>\n",
       "    </tr>\n",
       "    <tr>\n",
       "      <th>2</th>\n",
       "      <td>2019-11-30</td>\n",
       "      <td>2019-11-30 23:59:33</td>\n",
       "      <td>ETH</td>\n",
       "      <td>Godsunchained</td>\n",
       "      <td>Games</td>\n",
       "      <td>0.0002</td>\n",
       "      <td>0.030318</td>\n",
       "    </tr>\n",
       "    <tr>\n",
       "      <th>3</th>\n",
       "      <td>2019-11-30</td>\n",
       "      <td>2019-11-30 23:59:33</td>\n",
       "      <td>ETH</td>\n",
       "      <td>Godsunchained</td>\n",
       "      <td>Games</td>\n",
       "      <td>0.0022</td>\n",
       "      <td>0.333498</td>\n",
       "    </tr>\n",
       "    <tr>\n",
       "      <th>4</th>\n",
       "      <td>2019-11-30</td>\n",
       "      <td>2019-11-30 23:58:44</td>\n",
       "      <td>ETH</td>\n",
       "      <td>Godsunchained</td>\n",
       "      <td>Games</td>\n",
       "      <td>0.0012</td>\n",
       "      <td>0.181908</td>\n",
       "    </tr>\n",
       "  </tbody>\n",
       "</table>\n",
       "</div>"
      ],
      "text/plain": [
       "  Datetime_updated Datetime_updated_seconds Crypto     Collection Category  \\\n",
       "0       2019-11-30      2019-11-30 23:59:33    ETH  Godsunchained    Games   \n",
       "1       2019-11-30      2019-11-30 23:59:33    ETH  Godsunchained    Games   \n",
       "2       2019-11-30      2019-11-30 23:59:33    ETH  Godsunchained    Games   \n",
       "3       2019-11-30      2019-11-30 23:59:33    ETH  Godsunchained    Games   \n",
       "4       2019-11-30      2019-11-30 23:58:44    ETH  Godsunchained    Games   \n",
       "\n",
       "   Price_Crypto  Price_USD  \n",
       "0        0.0002   0.030318  \n",
       "1        0.0013   0.197067  \n",
       "2        0.0002   0.030318  \n",
       "3        0.0022   0.333498  \n",
       "4        0.0012   0.181908  "
      ]
     },
     "execution_count": 114,
     "metadata": {},
     "output_type": "execute_result"
    }
   ],
   "source": [
    "data_model.head()"
   ]
  },
  {
   "cell_type": "code",
   "execution_count": 39,
   "metadata": {
    "colab": {
     "base_uri": "https://localhost:8080/"
    },
    "id": "NafQSYvvhx9C",
    "outputId": "0ff3d69a-d8bd-4205-9820-a8f3328a1ac6"
   },
   "outputs": [
    {
     "data": {
      "text/plain": [
       "Cryptokitties    725400\n",
       "Godsunchained    236210\n",
       "kogsofficial      24216\n",
       "officialhero       6307\n",
       "gpk.topps          3393\n",
       "niftywizards        810\n",
       "upliftart           322\n",
       "cheesmansart        272\n",
       "chibisglobal        239\n",
       "dopestickers        179\n",
       "pepe.hero           179\n",
       "kaleidoscope        141\n",
       "krwingerarts        139\n",
       "niftysticker        122\n",
       "uplandfanart         88\n",
       "Name: Collection, dtype: int64"
      ]
     },
     "execution_count": 39,
     "metadata": {},
     "output_type": "execute_result"
    }
   ],
   "source": [
    "data_model['Collection'].value_counts()"
   ]
  },
  {
   "cell_type": "code",
   "execution_count": 40,
   "metadata": {
    "colab": {
     "base_uri": "https://localhost:8080/"
    },
    "id": "eyBlc2R79C8S",
    "outputId": "5db943ca-c90a-49a2-a7bf-1c881b997116"
   },
   "outputs": [
    {
     "name": "stdout",
     "output_type": "stream",
     "text": [
      "<class 'pandas.core.frame.DataFrame'>\n",
      "Int64Index: 998017 entries, 0 to 999999\n",
      "Data columns (total 6 columns):\n",
      " #   Column                    Non-Null Count   Dtype         \n",
      "---  ------                    --------------   -----         \n",
      " 0   Datetime_updated          998017 non-null  datetime64[ns]\n",
      " 1   Datetime_updated_seconds  998017 non-null  datetime64[ns]\n",
      " 2   Crypto                    998017 non-null  object        \n",
      " 3   Collection                998017 non-null  object        \n",
      " 4   Category                  998017 non-null  object        \n",
      " 5   Price_Crypto              998017 non-null  float64       \n",
      "dtypes: datetime64[ns](2), float64(1), object(3)\n",
      "memory usage: 53.3+ MB\n"
     ]
    }
   ],
   "source": [
    "data_model.info()"
   ]
  },
  {
   "cell_type": "markdown",
   "metadata": {
    "id": "06yOCGcCxCfb"
   },
   "source": [
    "## Linear Regression"
   ]
  },
  {
   "cell_type": "code",
   "execution_count": null,
   "metadata": {
    "id": "fG4Ldeb1xiiN"
   },
   "outputs": [],
   "source": [
    "import datetime as dt\n",
    "import time\n",
    "data_model1=data_model.copy()\n",
    "# data_model1['Datetime_updated']=pd.to_datetime(data_model1['Datetime_updated'])\n",
    "data_model1['Datetime_updated']=data_model1['Datetime_updated'].map(dt.datetime.toordinal)\n",
    "data_model1['Datetime_updated_seconds'] = data_model1['Datetime_updated_seconds'].apply(lambda  var: time.mktime(var.timetuple()))\n",
    "\n",
    "from sklearn.model_selection import train_test_split\n",
    "x=data_model1[['Datetime_updated','Datetime_updated_seconds','Crypto','Collection','Category']]\n",
    "x= pd.get_dummies(x, columns = ['Crypto','Collection','Category'])\n",
    "y=data_model1['Price_Crypto']\n",
    "x_train, x_test,y_train, y_test = train_test_split(x, y, test_size=0.25, random_state=100)"
   ]
  },
  {
   "cell_type": "code",
   "execution_count": null,
   "metadata": {
    "colab": {
     "base_uri": "https://localhost:8080/",
     "height": 488
    },
    "id": "nLtdIErKyxhS",
    "outputId": "749cd04c-7120-4a49-b753-4abc528952af"
   },
   "outputs": [
    {
     "data": {
      "text/html": [
       "\n",
       "  <div id=\"df-1c6e344c-ba38-4401-82a1-ae9f353bd219\">\n",
       "    <div class=\"colab-df-container\">\n",
       "      <div>\n",
       "<style scoped>\n",
       "    .dataframe tbody tr th:only-of-type {\n",
       "        vertical-align: middle;\n",
       "    }\n",
       "\n",
       "    .dataframe tbody tr th {\n",
       "        vertical-align: top;\n",
       "    }\n",
       "\n",
       "    .dataframe thead th {\n",
       "        text-align: right;\n",
       "    }\n",
       "</style>\n",
       "<table border=\"1\" class=\"dataframe\">\n",
       "  <thead>\n",
       "    <tr style=\"text-align: right;\">\n",
       "      <th></th>\n",
       "      <th>Datetime_updated</th>\n",
       "      <th>Datetime_updated_seconds</th>\n",
       "      <th>Crypto_ETH</th>\n",
       "      <th>Crypto_WAX</th>\n",
       "      <th>Collection_Cryptokitties</th>\n",
       "      <th>Collection_Godsunchained</th>\n",
       "      <th>Collection_cheesmansart</th>\n",
       "      <th>Collection_chibisglobal</th>\n",
       "      <th>Collection_dopestickers</th>\n",
       "      <th>Collection_gpk.topps</th>\n",
       "      <th>...</th>\n",
       "      <th>Collection_niftysticker</th>\n",
       "      <th>Collection_niftywizards</th>\n",
       "      <th>Collection_officialhero</th>\n",
       "      <th>Collection_pepe.hero</th>\n",
       "      <th>Collection_uplandfanart</th>\n",
       "      <th>Collection_upliftart</th>\n",
       "      <th>Category_Art</th>\n",
       "      <th>Category_Collectible</th>\n",
       "      <th>Category_Games</th>\n",
       "      <th>Category_Other</th>\n",
       "    </tr>\n",
       "  </thead>\n",
       "  <tbody>\n",
       "    <tr>\n",
       "      <th>669165</th>\n",
       "      <td>2018-08-21</td>\n",
       "      <td>2018-08-21 20:18:57</td>\n",
       "      <td>1</td>\n",
       "      <td>0</td>\n",
       "      <td>1</td>\n",
       "      <td>0</td>\n",
       "      <td>0</td>\n",
       "      <td>0</td>\n",
       "      <td>0</td>\n",
       "      <td>0</td>\n",
       "      <td>...</td>\n",
       "      <td>0</td>\n",
       "      <td>0</td>\n",
       "      <td>0</td>\n",
       "      <td>0</td>\n",
       "      <td>0</td>\n",
       "      <td>0</td>\n",
       "      <td>1</td>\n",
       "      <td>0</td>\n",
       "      <td>0</td>\n",
       "      <td>0</td>\n",
       "    </tr>\n",
       "    <tr>\n",
       "      <th>502004</th>\n",
       "      <td>2018-01-20</td>\n",
       "      <td>2018-01-20 19:27:03</td>\n",
       "      <td>1</td>\n",
       "      <td>0</td>\n",
       "      <td>1</td>\n",
       "      <td>0</td>\n",
       "      <td>0</td>\n",
       "      <td>0</td>\n",
       "      <td>0</td>\n",
       "      <td>0</td>\n",
       "      <td>...</td>\n",
       "      <td>0</td>\n",
       "      <td>0</td>\n",
       "      <td>0</td>\n",
       "      <td>0</td>\n",
       "      <td>0</td>\n",
       "      <td>0</td>\n",
       "      <td>1</td>\n",
       "      <td>0</td>\n",
       "      <td>0</td>\n",
       "      <td>0</td>\n",
       "    </tr>\n",
       "    <tr>\n",
       "      <th>347306</th>\n",
       "      <td>2017-12-12</td>\n",
       "      <td>2017-12-12 10:38:27</td>\n",
       "      <td>1</td>\n",
       "      <td>0</td>\n",
       "      <td>1</td>\n",
       "      <td>0</td>\n",
       "      <td>0</td>\n",
       "      <td>0</td>\n",
       "      <td>0</td>\n",
       "      <td>0</td>\n",
       "      <td>...</td>\n",
       "      <td>0</td>\n",
       "      <td>0</td>\n",
       "      <td>0</td>\n",
       "      <td>0</td>\n",
       "      <td>0</td>\n",
       "      <td>0</td>\n",
       "      <td>1</td>\n",
       "      <td>0</td>\n",
       "      <td>0</td>\n",
       "      <td>0</td>\n",
       "    </tr>\n",
       "    <tr>\n",
       "      <th>300948</th>\n",
       "      <td>2017-12-17</td>\n",
       "      <td>2017-12-17 00:48:29</td>\n",
       "      <td>1</td>\n",
       "      <td>0</td>\n",
       "      <td>1</td>\n",
       "      <td>0</td>\n",
       "      <td>0</td>\n",
       "      <td>0</td>\n",
       "      <td>0</td>\n",
       "      <td>0</td>\n",
       "      <td>...</td>\n",
       "      <td>0</td>\n",
       "      <td>0</td>\n",
       "      <td>0</td>\n",
       "      <td>0</td>\n",
       "      <td>0</td>\n",
       "      <td>0</td>\n",
       "      <td>1</td>\n",
       "      <td>0</td>\n",
       "      <td>0</td>\n",
       "      <td>0</td>\n",
       "    </tr>\n",
       "    <tr>\n",
       "      <th>576580</th>\n",
       "      <td>2018-03-11</td>\n",
       "      <td>2018-03-11 07:32:41</td>\n",
       "      <td>1</td>\n",
       "      <td>0</td>\n",
       "      <td>1</td>\n",
       "      <td>0</td>\n",
       "      <td>0</td>\n",
       "      <td>0</td>\n",
       "      <td>0</td>\n",
       "      <td>0</td>\n",
       "      <td>...</td>\n",
       "      <td>0</td>\n",
       "      <td>0</td>\n",
       "      <td>0</td>\n",
       "      <td>0</td>\n",
       "      <td>0</td>\n",
       "      <td>0</td>\n",
       "      <td>1</td>\n",
       "      <td>0</td>\n",
       "      <td>0</td>\n",
       "      <td>0</td>\n",
       "    </tr>\n",
       "    <tr>\n",
       "      <th>...</th>\n",
       "      <td>...</td>\n",
       "      <td>...</td>\n",
       "      <td>...</td>\n",
       "      <td>...</td>\n",
       "      <td>...</td>\n",
       "      <td>...</td>\n",
       "      <td>...</td>\n",
       "      <td>...</td>\n",
       "      <td>...</td>\n",
       "      <td>...</td>\n",
       "      <td>...</td>\n",
       "      <td>...</td>\n",
       "      <td>...</td>\n",
       "      <td>...</td>\n",
       "      <td>...</td>\n",
       "      <td>...</td>\n",
       "      <td>...</td>\n",
       "      <td>...</td>\n",
       "      <td>...</td>\n",
       "      <td>...</td>\n",
       "      <td>...</td>\n",
       "    </tr>\n",
       "    <tr>\n",
       "      <th>864087</th>\n",
       "      <td>2019-08-20</td>\n",
       "      <td>2019-08-20 14:51:29</td>\n",
       "      <td>1</td>\n",
       "      <td>0</td>\n",
       "      <td>1</td>\n",
       "      <td>0</td>\n",
       "      <td>0</td>\n",
       "      <td>0</td>\n",
       "      <td>0</td>\n",
       "      <td>0</td>\n",
       "      <td>...</td>\n",
       "      <td>0</td>\n",
       "      <td>0</td>\n",
       "      <td>0</td>\n",
       "      <td>0</td>\n",
       "      <td>0</td>\n",
       "      <td>0</td>\n",
       "      <td>1</td>\n",
       "      <td>0</td>\n",
       "      <td>0</td>\n",
       "      <td>0</td>\n",
       "    </tr>\n",
       "    <tr>\n",
       "      <th>778087</th>\n",
       "      <td>2019-01-14</td>\n",
       "      <td>2019-01-14 00:09:31</td>\n",
       "      <td>1</td>\n",
       "      <td>0</td>\n",
       "      <td>1</td>\n",
       "      <td>0</td>\n",
       "      <td>0</td>\n",
       "      <td>0</td>\n",
       "      <td>0</td>\n",
       "      <td>0</td>\n",
       "      <td>...</td>\n",
       "      <td>0</td>\n",
       "      <td>0</td>\n",
       "      <td>0</td>\n",
       "      <td>0</td>\n",
       "      <td>0</td>\n",
       "      <td>0</td>\n",
       "      <td>1</td>\n",
       "      <td>0</td>\n",
       "      <td>0</td>\n",
       "      <td>0</td>\n",
       "    </tr>\n",
       "    <tr>\n",
       "      <th>210755</th>\n",
       "      <td>2020-03-29</td>\n",
       "      <td>2020-03-29 18:51:21</td>\n",
       "      <td>1</td>\n",
       "      <td>0</td>\n",
       "      <td>0</td>\n",
       "      <td>1</td>\n",
       "      <td>0</td>\n",
       "      <td>0</td>\n",
       "      <td>0</td>\n",
       "      <td>0</td>\n",
       "      <td>...</td>\n",
       "      <td>0</td>\n",
       "      <td>0</td>\n",
       "      <td>0</td>\n",
       "      <td>0</td>\n",
       "      <td>0</td>\n",
       "      <td>0</td>\n",
       "      <td>0</td>\n",
       "      <td>0</td>\n",
       "      <td>1</td>\n",
       "      <td>0</td>\n",
       "    </tr>\n",
       "    <tr>\n",
       "      <th>56088</th>\n",
       "      <td>2019-11-22</td>\n",
       "      <td>2019-11-22 16:11:22</td>\n",
       "      <td>1</td>\n",
       "      <td>0</td>\n",
       "      <td>0</td>\n",
       "      <td>1</td>\n",
       "      <td>0</td>\n",
       "      <td>0</td>\n",
       "      <td>0</td>\n",
       "      <td>0</td>\n",
       "      <td>...</td>\n",
       "      <td>0</td>\n",
       "      <td>0</td>\n",
       "      <td>0</td>\n",
       "      <td>0</td>\n",
       "      <td>0</td>\n",
       "      <td>0</td>\n",
       "      <td>0</td>\n",
       "      <td>0</td>\n",
       "      <td>1</td>\n",
       "      <td>0</td>\n",
       "    </tr>\n",
       "    <tr>\n",
       "      <th>824840</th>\n",
       "      <td>2019-04-14</td>\n",
       "      <td>2019-04-14 13:17:14</td>\n",
       "      <td>1</td>\n",
       "      <td>0</td>\n",
       "      <td>1</td>\n",
       "      <td>0</td>\n",
       "      <td>0</td>\n",
       "      <td>0</td>\n",
       "      <td>0</td>\n",
       "      <td>0</td>\n",
       "      <td>...</td>\n",
       "      <td>0</td>\n",
       "      <td>0</td>\n",
       "      <td>0</td>\n",
       "      <td>0</td>\n",
       "      <td>0</td>\n",
       "      <td>0</td>\n",
       "      <td>1</td>\n",
       "      <td>0</td>\n",
       "      <td>0</td>\n",
       "      <td>0</td>\n",
       "    </tr>\n",
       "  </tbody>\n",
       "</table>\n",
       "<p>748512 rows × 23 columns</p>\n",
       "</div>\n",
       "      <button class=\"colab-df-convert\" onclick=\"convertToInteractive('df-1c6e344c-ba38-4401-82a1-ae9f353bd219')\"\n",
       "              title=\"Convert this dataframe to an interactive table.\"\n",
       "              style=\"display:none;\">\n",
       "        \n",
       "  <svg xmlns=\"http://www.w3.org/2000/svg\" height=\"24px\"viewBox=\"0 0 24 24\"\n",
       "       width=\"24px\">\n",
       "    <path d=\"M0 0h24v24H0V0z\" fill=\"none\"/>\n",
       "    <path d=\"M18.56 5.44l.94 2.06.94-2.06 2.06-.94-2.06-.94-.94-2.06-.94 2.06-2.06.94zm-11 1L8.5 8.5l.94-2.06 2.06-.94-2.06-.94L8.5 2.5l-.94 2.06-2.06.94zm10 10l.94 2.06.94-2.06 2.06-.94-2.06-.94-.94-2.06-.94 2.06-2.06.94z\"/><path d=\"M17.41 7.96l-1.37-1.37c-.4-.4-.92-.59-1.43-.59-.52 0-1.04.2-1.43.59L10.3 9.45l-7.72 7.72c-.78.78-.78 2.05 0 2.83L4 21.41c.39.39.9.59 1.41.59.51 0 1.02-.2 1.41-.59l7.78-7.78 2.81-2.81c.8-.78.8-2.07 0-2.86zM5.41 20L4 18.59l7.72-7.72 1.47 1.35L5.41 20z\"/>\n",
       "  </svg>\n",
       "      </button>\n",
       "      \n",
       "  <style>\n",
       "    .colab-df-container {\n",
       "      display:flex;\n",
       "      flex-wrap:wrap;\n",
       "      gap: 12px;\n",
       "    }\n",
       "\n",
       "    .colab-df-convert {\n",
       "      background-color: #E8F0FE;\n",
       "      border: none;\n",
       "      border-radius: 50%;\n",
       "      cursor: pointer;\n",
       "      display: none;\n",
       "      fill: #1967D2;\n",
       "      height: 32px;\n",
       "      padding: 0 0 0 0;\n",
       "      width: 32px;\n",
       "    }\n",
       "\n",
       "    .colab-df-convert:hover {\n",
       "      background-color: #E2EBFA;\n",
       "      box-shadow: 0px 1px 2px rgba(60, 64, 67, 0.3), 0px 1px 3px 1px rgba(60, 64, 67, 0.15);\n",
       "      fill: #174EA6;\n",
       "    }\n",
       "\n",
       "    [theme=dark] .colab-df-convert {\n",
       "      background-color: #3B4455;\n",
       "      fill: #D2E3FC;\n",
       "    }\n",
       "\n",
       "    [theme=dark] .colab-df-convert:hover {\n",
       "      background-color: #434B5C;\n",
       "      box-shadow: 0px 1px 3px 1px rgba(0, 0, 0, 0.15);\n",
       "      filter: drop-shadow(0px 1px 2px rgba(0, 0, 0, 0.3));\n",
       "      fill: #FFFFFF;\n",
       "    }\n",
       "  </style>\n",
       "\n",
       "      <script>\n",
       "        const buttonEl =\n",
       "          document.querySelector('#df-1c6e344c-ba38-4401-82a1-ae9f353bd219 button.colab-df-convert');\n",
       "        buttonEl.style.display =\n",
       "          google.colab.kernel.accessAllowed ? 'block' : 'none';\n",
       "\n",
       "        async function convertToInteractive(key) {\n",
       "          const element = document.querySelector('#df-1c6e344c-ba38-4401-82a1-ae9f353bd219');\n",
       "          const dataTable =\n",
       "            await google.colab.kernel.invokeFunction('convertToInteractive',\n",
       "                                                     [key], {});\n",
       "          if (!dataTable) return;\n",
       "\n",
       "          const docLinkHtml = 'Like what you see? Visit the ' +\n",
       "            '<a target=\"_blank\" href=https://colab.research.google.com/notebooks/data_table.ipynb>data table notebook</a>'\n",
       "            + ' to learn more about interactive tables.';\n",
       "          element.innerHTML = '';\n",
       "          dataTable['output_type'] = 'display_data';\n",
       "          await google.colab.output.renderOutput(dataTable, element);\n",
       "          const docLink = document.createElement('div');\n",
       "          docLink.innerHTML = docLinkHtml;\n",
       "          element.appendChild(docLink);\n",
       "        }\n",
       "      </script>\n",
       "    </div>\n",
       "  </div>\n",
       "  "
      ],
      "text/plain": [
       "       Datetime_updated Datetime_updated_seconds  Crypto_ETH  Crypto_WAX  \\\n",
       "669165       2018-08-21      2018-08-21 20:18:57           1           0   \n",
       "502004       2018-01-20      2018-01-20 19:27:03           1           0   \n",
       "347306       2017-12-12      2017-12-12 10:38:27           1           0   \n",
       "300948       2017-12-17      2017-12-17 00:48:29           1           0   \n",
       "576580       2018-03-11      2018-03-11 07:32:41           1           0   \n",
       "...                 ...                      ...         ...         ...   \n",
       "864087       2019-08-20      2019-08-20 14:51:29           1           0   \n",
       "778087       2019-01-14      2019-01-14 00:09:31           1           0   \n",
       "210755       2020-03-29      2020-03-29 18:51:21           1           0   \n",
       "56088        2019-11-22      2019-11-22 16:11:22           1           0   \n",
       "824840       2019-04-14      2019-04-14 13:17:14           1           0   \n",
       "\n",
       "        Collection_Cryptokitties  Collection_Godsunchained  \\\n",
       "669165                         1                         0   \n",
       "502004                         1                         0   \n",
       "347306                         1                         0   \n",
       "300948                         1                         0   \n",
       "576580                         1                         0   \n",
       "...                          ...                       ...   \n",
       "864087                         1                         0   \n",
       "778087                         1                         0   \n",
       "210755                         0                         1   \n",
       "56088                          0                         1   \n",
       "824840                         1                         0   \n",
       "\n",
       "        Collection_cheesmansart  Collection_chibisglobal  \\\n",
       "669165                        0                        0   \n",
       "502004                        0                        0   \n",
       "347306                        0                        0   \n",
       "300948                        0                        0   \n",
       "576580                        0                        0   \n",
       "...                         ...                      ...   \n",
       "864087                        0                        0   \n",
       "778087                        0                        0   \n",
       "210755                        0                        0   \n",
       "56088                         0                        0   \n",
       "824840                        0                        0   \n",
       "\n",
       "        Collection_dopestickers  Collection_gpk.topps  ...  \\\n",
       "669165                        0                     0  ...   \n",
       "502004                        0                     0  ...   \n",
       "347306                        0                     0  ...   \n",
       "300948                        0                     0  ...   \n",
       "576580                        0                     0  ...   \n",
       "...                         ...                   ...  ...   \n",
       "864087                        0                     0  ...   \n",
       "778087                        0                     0  ...   \n",
       "210755                        0                     0  ...   \n",
       "56088                         0                     0  ...   \n",
       "824840                        0                     0  ...   \n",
       "\n",
       "        Collection_niftysticker  Collection_niftywizards  \\\n",
       "669165                        0                        0   \n",
       "502004                        0                        0   \n",
       "347306                        0                        0   \n",
       "300948                        0                        0   \n",
       "576580                        0                        0   \n",
       "...                         ...                      ...   \n",
       "864087                        0                        0   \n",
       "778087                        0                        0   \n",
       "210755                        0                        0   \n",
       "56088                         0                        0   \n",
       "824840                        0                        0   \n",
       "\n",
       "        Collection_officialhero  Collection_pepe.hero  \\\n",
       "669165                        0                     0   \n",
       "502004                        0                     0   \n",
       "347306                        0                     0   \n",
       "300948                        0                     0   \n",
       "576580                        0                     0   \n",
       "...                         ...                   ...   \n",
       "864087                        0                     0   \n",
       "778087                        0                     0   \n",
       "210755                        0                     0   \n",
       "56088                         0                     0   \n",
       "824840                        0                     0   \n",
       "\n",
       "        Collection_uplandfanart  Collection_upliftart  Category_Art  \\\n",
       "669165                        0                     0             1   \n",
       "502004                        0                     0             1   \n",
       "347306                        0                     0             1   \n",
       "300948                        0                     0             1   \n",
       "576580                        0                     0             1   \n",
       "...                         ...                   ...           ...   \n",
       "864087                        0                     0             1   \n",
       "778087                        0                     0             1   \n",
       "210755                        0                     0             0   \n",
       "56088                         0                     0             0   \n",
       "824840                        0                     0             1   \n",
       "\n",
       "        Category_Collectible  Category_Games  Category_Other  \n",
       "669165                     0               0               0  \n",
       "502004                     0               0               0  \n",
       "347306                     0               0               0  \n",
       "300948                     0               0               0  \n",
       "576580                     0               0               0  \n",
       "...                      ...             ...             ...  \n",
       "864087                     0               0               0  \n",
       "778087                     0               0               0  \n",
       "210755                     0               1               0  \n",
       "56088                      0               1               0  \n",
       "824840                     0               0               0  \n",
       "\n",
       "[748512 rows x 23 columns]"
      ]
     },
     "execution_count": 69,
     "metadata": {},
     "output_type": "execute_result"
    }
   ],
   "source": [
    "x_train"
   ]
  },
  {
   "cell_type": "code",
   "execution_count": null,
   "metadata": {
    "colab": {
     "base_uri": "https://localhost:8080/"
    },
    "id": "FDa4xrZ8zDS-",
    "outputId": "bce064ae-f808-420b-ca78-324201a7b22c"
   },
   "outputs": [
    {
     "data": {
      "text/plain": [
       "669165    0.290338\n",
       "502004    0.008562\n",
       "347306    0.031020\n",
       "300948    0.099000\n",
       "576580    0.033877\n",
       "            ...   \n",
       "864087    0.001613\n",
       "778087    0.003214\n",
       "210755    0.001100\n",
       "56088     0.065900\n",
       "824840    0.004036\n",
       "Name: Price_Crypto, Length: 748512, dtype: float64"
      ]
     },
     "execution_count": 70,
     "metadata": {},
     "output_type": "execute_result"
    }
   ],
   "source": [
    "y_train"
   ]
  },
  {
   "cell_type": "code",
   "execution_count": null,
   "metadata": {
    "id": "Tx-mPIxA27ED"
   },
   "outputs": [],
   "source": [
    "from sklearn import linear_model\n",
    "regr = linear_model.LinearRegression(normalize=True) # Do not use fit_intercept = False if you have removed 1 column after dummy encoding\n",
    "regr.fit(x_train, y_train)\n",
    "predicted = regr.predict(x_test)"
   ]
  },
  {
   "cell_type": "code",
   "execution_count": null,
   "metadata": {
    "colab": {
     "base_uri": "https://localhost:8080/"
    },
    "id": "q8cX1eEF3JpH",
    "outputId": "fa072675-d760-442f-cc2a-492244fb5470"
   },
   "outputs": [
    {
     "data": {
      "text/plain": [
       "array([ 0.3671875 ,  0.328125  ,  0.30078125, ...,  0.37109375,\n",
       "       -1.02734375,  0.2734375 ])"
      ]
     },
     "execution_count": 74,
     "metadata": {},
     "output_type": "execute_result"
    }
   ],
   "source": [
    "predicted"
   ]
  },
  {
   "cell_type": "code",
   "execution_count": null,
   "metadata": {
    "colab": {
     "base_uri": "https://localhost:8080/"
    },
    "id": "FEjVQnW93sV9",
    "outputId": "608d7ad0-b0ef-41c6-fe6b-02c44a7fe2d2"
   },
   "outputs": [
    {
     "data": {
      "text/plain": [
       "682221    0.065618\n",
       "105639    0.004200\n",
       "918116    0.000900\n",
       "352995    0.008137\n",
       "928913    0.002465\n",
       "            ...   \n",
       "292609    0.005000\n",
       "428551    0.042635\n",
       "878708    0.001641\n",
       "956152    0.007860\n",
       "546462    0.248821\n",
       "Name: Price_Crypto, Length: 249505, dtype: float64"
      ]
     },
     "execution_count": 75,
     "metadata": {},
     "output_type": "execute_result"
    }
   ],
   "source": [
    "y_test"
   ]
  },
  {
   "cell_type": "code",
   "execution_count": null,
   "metadata": {
    "colab": {
     "base_uri": "https://localhost:8080/"
    },
    "id": "n4Zs-IHM7xVi",
    "outputId": "981ca4ff-1615-49ca-cfb1-53e6fe5b632a"
   },
   "outputs": [
    {
     "name": "stdout",
     "output_type": "stream",
     "text": [
      "7.910182589568812 7409.274154019695 86.07714071703181\n"
     ]
    },
    {
     "data": {
      "text/plain": [
       "0.14965084001538909"
      ]
     },
     "execution_count": 76,
     "metadata": {},
     "output_type": "execute_result"
    }
   ],
   "source": [
    "from sklearn.metrics import mean_absolute_error, mean_squared_error,r2_score\n",
    "mae = mean_absolute_error(y_test, predicted)\n",
    "mse = mean_squared_error(y_test, predicted)\n",
    "rmse = np.sqrt(mse)\n",
    "print(mae,mse,rmse)\n",
    "r2_score(y_test,predicted)"
   ]
  },
  {
   "cell_type": "code",
   "execution_count": null,
   "metadata": {
    "id": "rQSTNa2a8BW9"
   },
   "outputs": [],
   "source": []
  },
  {
   "cell_type": "markdown",
   "metadata": {
    "id": "Ot0LnjRqNh74"
   },
   "source": [
    "#Random Forest"
   ]
  },
  {
   "cell_type": "code",
   "execution_count": null,
   "metadata": {
    "id": "bWq3vjwHNmbL"
   },
   "outputs": [],
   "source": [
    "from sklearn.ensemble import RandomForestRegressor"
   ]
  },
  {
   "cell_type": "code",
   "execution_count": null,
   "metadata": {
    "colab": {
     "base_uri": "https://localhost:8080/"
    },
    "id": "54feoamIRQDv",
    "outputId": "fce0f8f0-a3d3-4b29-fc1c-d91fa62c52f8"
   },
   "outputs": [
    {
     "data": {
      "text/plain": [
       "RandomForestRegressor(max_depth=500, random_state=81)"
      ]
     },
     "execution_count": 78,
     "metadata": {},
     "output_type": "execute_result"
    }
   ],
   "source": [
    "regr = RandomForestRegressor(max_depth=500, random_state=81)\n",
    "regr.fit(x_train, y_train)"
   ]
  },
  {
   "cell_type": "code",
   "execution_count": null,
   "metadata": {
    "colab": {
     "base_uri": "https://localhost:8080/"
    },
    "id": "8jbWzh1NVvgh",
    "outputId": "84d42bc7-5bdf-463a-e1ea-eb2aef256706"
   },
   "outputs": [
    {
     "data": {
      "text/plain": [
       "array([0.03886208, 0.00254738, 0.00151002, ..., 0.00410692, 0.00786531,\n",
       "       0.00530203])"
      ]
     },
     "execution_count": 79,
     "metadata": {},
     "output_type": "execute_result"
    }
   ],
   "source": [
    "y_pred = regr.predict(x_test)\n",
    "y_pred"
   ]
  },
  {
   "cell_type": "code",
   "execution_count": null,
   "metadata": {
    "colab": {
     "base_uri": "https://localhost:8080/"
    },
    "id": "0mak9iNuXR1O",
    "outputId": "6d6a7ca0-d412-4158-d40f-fff9e8aaa404"
   },
   "outputs": [
    {
     "data": {
      "text/plain": [
       "682221    0.065618\n",
       "105639    0.004200\n",
       "918116    0.000900\n",
       "352995    0.008137\n",
       "928913    0.002465\n",
       "            ...   \n",
       "292609    0.005000\n",
       "428551    0.042635\n",
       "878708    0.001641\n",
       "956152    0.007860\n",
       "546462    0.248821\n",
       "Name: Price_Crypto, Length: 249505, dtype: float64"
      ]
     },
     "execution_count": 82,
     "metadata": {},
     "output_type": "execute_result"
    }
   ],
   "source": [
    "y_test"
   ]
  },
  {
   "cell_type": "code",
   "execution_count": null,
   "metadata": {
    "colab": {
     "base_uri": "https://localhost:8080/"
    },
    "id": "kciaI7MSZSwZ",
    "outputId": "3207c3b5-6263-4142-86fb-9542d28f6ec1"
   },
   "outputs": [
    {
     "data": {
      "text/plain": [
       "682221    0.026756\n",
       "105639    0.001653\n",
       "918116    0.000610\n",
       "352995    0.031096\n",
       "928913    0.004720\n",
       "            ...   \n",
       "292609    0.022367\n",
       "428551    0.112079\n",
       "878708    0.002466\n",
       "956152    0.000005\n",
       "546462    0.243519\n",
       "Name: Price_Crypto, Length: 249505, dtype: float64"
      ]
     },
     "execution_count": 81,
     "metadata": {},
     "output_type": "execute_result"
    }
   ],
   "source": [
    "errors = abs(y_pred - y_test)\n",
    "errors"
   ]
  },
  {
   "cell_type": "code",
   "execution_count": null,
   "metadata": {
    "colab": {
     "base_uri": "https://localhost:8080/"
    },
    "id": "r1DJarEqZg60",
    "outputId": "aa697318-7bf4-4c46-bc26-b6a8082c19b4"
   },
   "outputs": [
    {
     "name": "stdout",
     "output_type": "stream",
     "text": [
      "Mean Squared Error: 7699.271074198636\n",
      "Root Mean Squared Error: 86.07714071703181\n"
     ]
    }
   ],
   "source": [
    "mse_rf = mean_squared_error(y_test, y_pred)\n",
    "mse_rf1 = np.square(np.subtract(y_test,y_pred)).mean()\n",
    "rmse_rf = np.sqrt(mse)\n",
    "print(\"Mean Squared Error:\", mse_rf)\n",
    "print(\"Root Mean Squared Error:\", rmse_rf)"
   ]
  },
  {
   "cell_type": "markdown",
   "metadata": {
    "id": "7hcL8XyZHRiL"
   },
   "source": []
  },
  {
   "cell_type": "markdown",
   "metadata": {
    "id": "sCYW8tKiHTNu"
   },
   "source": [
    "##XGBoost Model"
   ]
  },
  {
   "cell_type": "code",
   "execution_count": null,
   "metadata": {
    "id": "rBlw0KHmHiqf"
   },
   "outputs": [],
   "source": [
    "# define model\n",
    "from xgboost import XGBRegressor\n",
    "model = XGBRegressor()"
   ]
  },
  {
   "cell_type": "code",
   "execution_count": null,
   "metadata": {
    "id": "EiJh2gR5Hit4"
   },
   "outputs": [],
   "source": [
    "# create an xgboost regression model\n",
    "model = XGBRegressor(n_estimators=1000, max_depth=7, eta=0.1, subsample=0.7, colsample_bytree=0.8)"
   ]
  },
  {
   "cell_type": "code",
   "execution_count": null,
   "metadata": {
    "id": "Agtf_p2aHzMC"
   },
   "outputs": [],
   "source": [
    "# Instantiation\n",
    "xgb_r = XGBRegressor(objective ='reg:linear',\n",
    "                  n_estimators = 10, seed = 123)"
   ]
  },
  {
   "cell_type": "code",
   "execution_count": null,
   "metadata": {
    "colab": {
     "base_uri": "https://localhost:8080/"
    },
    "id": "rbq7oZGpHzPK",
    "outputId": "51fa7b8b-4c07-4dab-94a9-967007a1f545"
   },
   "outputs": [
    {
     "name": "stdout",
     "output_type": "stream",
     "text": [
      "[22:52:55] WARNING: /workspace/src/objective/regression_obj.cu:152: reg:linear is now deprecated in favor of reg:squarederror.\n"
     ]
    },
    {
     "data": {
      "text/plain": [
       "XGBRegressor(n_estimators=10, seed=123)"
      ]
     },
     "execution_count": 89,
     "metadata": {},
     "output_type": "execute_result"
    }
   ],
   "source": [
    "xgb_r.fit(x_train, y_train)"
   ]
  },
  {
   "cell_type": "code",
   "execution_count": null,
   "metadata": {
    "colab": {
     "base_uri": "https://localhost:8080/"
    },
    "id": "A5jA4nWLHzSB",
    "outputId": "ed0c8093-ccf1-421a-8fe5-9ce6fc1baccf"
   },
   "outputs": [
    {
     "data": {
      "text/plain": [
       "array([0.21315473, 0.20423749, 0.20423749, ..., 0.20423749, 0.24088442,\n",
       "       0.21315473], dtype=float32)"
      ]
     },
     "execution_count": 90,
     "metadata": {},
     "output_type": "execute_result"
    }
   ],
   "source": [
    "pred = xgb_r.predict(x_test)\n",
    "pred"
   ]
  },
  {
   "cell_type": "code",
   "execution_count": null,
   "metadata": {
    "colab": {
     "base_uri": "https://localhost:8080/"
    },
    "id": "hFxpptsXHzU4",
    "outputId": "c08bbd9a-64db-4bbf-89e5-55e12f3909a7"
   },
   "outputs": [
    {
     "name": "stdout",
     "output_type": "stream",
     "text": [
      "RMSE :  82.561187\n"
     ]
    }
   ],
   "source": [
    "rmse = np.sqrt(mean_squared_error(y_test, pred))\n",
    "print(\"RMSE : % f\" %(rmse))"
   ]
  },
  {
   "cell_type": "code",
   "execution_count": null,
   "metadata": {
    "colab": {
     "base_uri": "https://localhost:8080/"
    },
    "id": "0eE4SArmIDzU",
    "outputId": "8b8a98e6-860f-40d3-e0af-35a780856901"
   },
   "outputs": [
    {
     "data": {
      "text/plain": [
       "5.8427624002374925"
      ]
     },
     "execution_count": 94,
     "metadata": {},
     "output_type": "execute_result"
    }
   ],
   "source": [
    "from sklearn.metrics import mean_absolute_error\n",
    "mean_absolute_error(y_test, pred)"
   ]
  },
  {
   "cell_type": "code",
   "execution_count": null,
   "metadata": {
    "colab": {
     "base_uri": "https://localhost:8080/"
    },
    "id": "MURrwNlIID2K",
    "outputId": "9560fb10-4991-4c3d-f779-c22cd11fc50e"
   },
   "outputs": [
    {
     "data": {
      "text/plain": [
       "0.21769973744465787"
      ]
     },
     "execution_count": 95,
     "metadata": {},
     "output_type": "execute_result"
    }
   ],
   "source": [
    "from sklearn.metrics import r2_score\n",
    "r2_score(y_test, pred)"
   ]
  },
  {
   "cell_type": "code",
   "execution_count": 43,
   "metadata": {
    "id": "ewdoh8C0ID4y"
   },
   "outputs": [
    {
     "data": {
      "text/html": [
       "<div>\n",
       "<style scoped>\n",
       "    .dataframe tbody tr th:only-of-type {\n",
       "        vertical-align: middle;\n",
       "    }\n",
       "\n",
       "    .dataframe tbody tr th {\n",
       "        vertical-align: top;\n",
       "    }\n",
       "\n",
       "    .dataframe thead th {\n",
       "        text-align: right;\n",
       "    }\n",
       "</style>\n",
       "<table border=\"1\" class=\"dataframe\">\n",
       "  <thead>\n",
       "    <tr style=\"text-align: right;\">\n",
       "      <th></th>\n",
       "      <th>Datetime_updated</th>\n",
       "      <th>Datetime_updated_seconds</th>\n",
       "      <th>Crypto</th>\n",
       "      <th>Collection</th>\n",
       "      <th>Category</th>\n",
       "      <th>Price_Crypto</th>\n",
       "    </tr>\n",
       "  </thead>\n",
       "  <tbody>\n",
       "    <tr>\n",
       "      <th>0</th>\n",
       "      <td>2019-11-30</td>\n",
       "      <td>2019-11-30 23:59:33</td>\n",
       "      <td>ETH</td>\n",
       "      <td>Godsunchained</td>\n",
       "      <td>Games</td>\n",
       "      <td>0.0002</td>\n",
       "    </tr>\n",
       "    <tr>\n",
       "      <th>1</th>\n",
       "      <td>2019-11-30</td>\n",
       "      <td>2019-11-30 23:59:33</td>\n",
       "      <td>ETH</td>\n",
       "      <td>Godsunchained</td>\n",
       "      <td>Games</td>\n",
       "      <td>0.0013</td>\n",
       "    </tr>\n",
       "    <tr>\n",
       "      <th>2</th>\n",
       "      <td>2019-11-30</td>\n",
       "      <td>2019-11-30 23:59:33</td>\n",
       "      <td>ETH</td>\n",
       "      <td>Godsunchained</td>\n",
       "      <td>Games</td>\n",
       "      <td>0.0002</td>\n",
       "    </tr>\n",
       "    <tr>\n",
       "      <th>3</th>\n",
       "      <td>2019-11-30</td>\n",
       "      <td>2019-11-30 23:59:33</td>\n",
       "      <td>ETH</td>\n",
       "      <td>Godsunchained</td>\n",
       "      <td>Games</td>\n",
       "      <td>0.0022</td>\n",
       "    </tr>\n",
       "    <tr>\n",
       "      <th>4</th>\n",
       "      <td>2019-11-30</td>\n",
       "      <td>2019-11-30 23:58:44</td>\n",
       "      <td>ETH</td>\n",
       "      <td>Godsunchained</td>\n",
       "      <td>Games</td>\n",
       "      <td>0.0012</td>\n",
       "    </tr>\n",
       "    <tr>\n",
       "      <th>...</th>\n",
       "      <td>...</td>\n",
       "      <td>...</td>\n",
       "      <td>...</td>\n",
       "      <td>...</td>\n",
       "      <td>...</td>\n",
       "      <td>...</td>\n",
       "    </tr>\n",
       "    <tr>\n",
       "      <th>999994</th>\n",
       "      <td>2020-08-20</td>\n",
       "      <td>2020-08-20 19:15:19</td>\n",
       "      <td>WAX</td>\n",
       "      <td>kogsofficial</td>\n",
       "      <td>Games</td>\n",
       "      <td>333.0000</td>\n",
       "    </tr>\n",
       "    <tr>\n",
       "      <th>999995</th>\n",
       "      <td>2020-08-20</td>\n",
       "      <td>2020-08-20 19:14:51</td>\n",
       "      <td>WAX</td>\n",
       "      <td>kogsofficial</td>\n",
       "      <td>Games</td>\n",
       "      <td>50.0000</td>\n",
       "    </tr>\n",
       "    <tr>\n",
       "      <th>999996</th>\n",
       "      <td>2020-08-20</td>\n",
       "      <td>2020-08-20 19:14:36</td>\n",
       "      <td>WAX</td>\n",
       "      <td>kogsofficial</td>\n",
       "      <td>Games</td>\n",
       "      <td>50.0000</td>\n",
       "    </tr>\n",
       "    <tr>\n",
       "      <th>999998</th>\n",
       "      <td>2020-08-20</td>\n",
       "      <td>2020-08-20 19:12:33</td>\n",
       "      <td>WAX</td>\n",
       "      <td>kogsofficial</td>\n",
       "      <td>Games</td>\n",
       "      <td>30.0000</td>\n",
       "    </tr>\n",
       "    <tr>\n",
       "      <th>999999</th>\n",
       "      <td>2020-08-20</td>\n",
       "      <td>2020-08-20 19:12:15</td>\n",
       "      <td>WAX</td>\n",
       "      <td>kogsofficial</td>\n",
       "      <td>Games</td>\n",
       "      <td>199.0000</td>\n",
       "    </tr>\n",
       "  </tbody>\n",
       "</table>\n",
       "<p>998017 rows × 6 columns</p>\n",
       "</div>"
      ],
      "text/plain": [
       "       Datetime_updated Datetime_updated_seconds Crypto     Collection  \\\n",
       "0            2019-11-30      2019-11-30 23:59:33    ETH  Godsunchained   \n",
       "1            2019-11-30      2019-11-30 23:59:33    ETH  Godsunchained   \n",
       "2            2019-11-30      2019-11-30 23:59:33    ETH  Godsunchained   \n",
       "3            2019-11-30      2019-11-30 23:59:33    ETH  Godsunchained   \n",
       "4            2019-11-30      2019-11-30 23:58:44    ETH  Godsunchained   \n",
       "...                 ...                      ...    ...            ...   \n",
       "999994       2020-08-20      2020-08-20 19:15:19    WAX   kogsofficial   \n",
       "999995       2020-08-20      2020-08-20 19:14:51    WAX   kogsofficial   \n",
       "999996       2020-08-20      2020-08-20 19:14:36    WAX   kogsofficial   \n",
       "999998       2020-08-20      2020-08-20 19:12:33    WAX   kogsofficial   \n",
       "999999       2020-08-20      2020-08-20 19:12:15    WAX   kogsofficial   \n",
       "\n",
       "       Category  Price_Crypto  \n",
       "0         Games        0.0002  \n",
       "1         Games        0.0013  \n",
       "2         Games        0.0002  \n",
       "3         Games        0.0022  \n",
       "4         Games        0.0012  \n",
       "...         ...           ...  \n",
       "999994    Games      333.0000  \n",
       "999995    Games       50.0000  \n",
       "999996    Games       50.0000  \n",
       "999998    Games       30.0000  \n",
       "999999    Games      199.0000  \n",
       "\n",
       "[998017 rows x 6 columns]"
      ]
     },
     "execution_count": 43,
     "metadata": {},
     "output_type": "execute_result"
    }
   ],
   "source": [
    "data_model"
   ]
  },
  {
   "cell_type": "code",
   "execution_count": 151,
   "metadata": {
    "id": "s9E-hnPKID7p"
   },
   "outputs": [
    {
     "data": {
      "text/html": [
       "<div>\n",
       "<style scoped>\n",
       "    .dataframe tbody tr th:only-of-type {\n",
       "        vertical-align: middle;\n",
       "    }\n",
       "\n",
       "    .dataframe tbody tr th {\n",
       "        vertical-align: top;\n",
       "    }\n",
       "\n",
       "    .dataframe thead th {\n",
       "        text-align: right;\n",
       "    }\n",
       "</style>\n",
       "<table border=\"1\" class=\"dataframe\">\n",
       "  <thead>\n",
       "    <tr style=\"text-align: right;\">\n",
       "      <th></th>\n",
       "      <th>Datetime_updated</th>\n",
       "      <th>Datetime_updated_seconds</th>\n",
       "      <th>Crypto</th>\n",
       "      <th>Collection</th>\n",
       "      <th>Category</th>\n",
       "      <th>Price_Crypto</th>\n",
       "      <th>Price_USD</th>\n",
       "    </tr>\n",
       "  </thead>\n",
       "  <tbody>\n",
       "    <tr>\n",
       "      <th>0</th>\n",
       "      <td>2019-11-30</td>\n",
       "      <td>2019-11-30 23:59:33</td>\n",
       "      <td>ETH</td>\n",
       "      <td>Godsunchained</td>\n",
       "      <td>Games</td>\n",
       "      <td>0.0002</td>\n",
       "      <td>0.030318</td>\n",
       "    </tr>\n",
       "    <tr>\n",
       "      <th>1</th>\n",
       "      <td>2019-11-30</td>\n",
       "      <td>2019-11-30 23:59:33</td>\n",
       "      <td>ETH</td>\n",
       "      <td>Godsunchained</td>\n",
       "      <td>Games</td>\n",
       "      <td>0.0013</td>\n",
       "      <td>0.197067</td>\n",
       "    </tr>\n",
       "    <tr>\n",
       "      <th>2</th>\n",
       "      <td>2019-11-30</td>\n",
       "      <td>2019-11-30 23:59:33</td>\n",
       "      <td>ETH</td>\n",
       "      <td>Godsunchained</td>\n",
       "      <td>Games</td>\n",
       "      <td>0.0002</td>\n",
       "      <td>0.030318</td>\n",
       "    </tr>\n",
       "    <tr>\n",
       "      <th>3</th>\n",
       "      <td>2019-11-30</td>\n",
       "      <td>2019-11-30 23:59:33</td>\n",
       "      <td>ETH</td>\n",
       "      <td>Godsunchained</td>\n",
       "      <td>Games</td>\n",
       "      <td>0.0022</td>\n",
       "      <td>0.333498</td>\n",
       "    </tr>\n",
       "    <tr>\n",
       "      <th>4</th>\n",
       "      <td>2019-11-30</td>\n",
       "      <td>2019-11-30 23:58:44</td>\n",
       "      <td>ETH</td>\n",
       "      <td>Godsunchained</td>\n",
       "      <td>Games</td>\n",
       "      <td>0.0012</td>\n",
       "      <td>0.181908</td>\n",
       "    </tr>\n",
       "  </tbody>\n",
       "</table>\n",
       "</div>"
      ],
      "text/plain": [
       "  Datetime_updated Datetime_updated_seconds Crypto     Collection Category  \\\n",
       "0       2019-11-30      2019-11-30 23:59:33    ETH  Godsunchained    Games   \n",
       "1       2019-11-30      2019-11-30 23:59:33    ETH  Godsunchained    Games   \n",
       "2       2019-11-30      2019-11-30 23:59:33    ETH  Godsunchained    Games   \n",
       "3       2019-11-30      2019-11-30 23:59:33    ETH  Godsunchained    Games   \n",
       "4       2019-11-30      2019-11-30 23:58:44    ETH  Godsunchained    Games   \n",
       "\n",
       "   Price_Crypto  Price_USD  \n",
       "0        0.0002   0.030318  \n",
       "1        0.0013   0.197067  \n",
       "2        0.0002   0.030318  \n",
       "3        0.0022   0.333498  \n",
       "4        0.0012   0.181908  "
      ]
     },
     "execution_count": 151,
     "metadata": {},
     "output_type": "execute_result"
    }
   ],
   "source": [
    "data_lstm=data_model.copy()\n",
    "data_lstm.head()"
   ]
  },
  {
   "cell_type": "code",
   "execution_count": 152,
   "metadata": {},
   "outputs": [],
   "source": [
    "data_lstm=data_lstm[['Datetime_updated_seconds','Category','Price_USD']]\n",
    "data_lstm.set_index('Datetime_updated_seconds',inplace=True)"
   ]
  },
  {
   "cell_type": "code",
   "execution_count": 143,
   "metadata": {},
   "outputs": [],
   "source": [
    "data_lstm.to_csv('data_lstm.csv')"
   ]
  },
  {
   "cell_type": "code",
   "execution_count": 153,
   "metadata": {},
   "outputs": [
    {
     "data": {
      "text/plain": [
       "(725400, 1)"
      ]
     },
     "execution_count": 153,
     "metadata": {},
     "output_type": "execute_result"
    }
   ],
   "source": [
    "data_lstm=data_lstm[data_lstm['Category']=='Art']\n",
    "data_lstm.drop(['Category'],axis=1,inplace=True)\n",
    "data_lstm.shape"
   ]
  },
  {
   "cell_type": "code",
   "execution_count": 154,
   "metadata": {},
   "outputs": [
    {
     "data": {
      "text/plain": [
       "StandardScaler()"
      ]
     },
     "execution_count": 154,
     "metadata": {},
     "output_type": "execute_result"
    }
   ],
   "source": [
    "train = data_lstm.iloc[:10000]\n",
    "test = data_lstm.iloc[10000:10024]\n",
    "from sklearn.preprocessing import StandardScaler\n",
    "scaler = StandardScaler()\n",
    "scaler.fit(data_lstm)\n",
    "# scaled_train = scaler.transform(train)\n",
    "# scaled_test = scaler.transform(test)"
   ]
  },
  {
   "cell_type": "code",
   "execution_count": 155,
   "metadata": {},
   "outputs": [],
   "source": [
    "import keras\n",
    "from sklearn.preprocessing import StandardScaler\n",
    "n_input=7\n",
    "n_features=1\n",
    "model=keras.models.load_model(\"lstm_model\")\n",
    "test_predictions = []\n",
    "\n",
    "first_eval_batch = scaler.transform(np.array(data_lstm[-n_input:]))\n",
    "current_batch = first_eval_batch.reshape((1, n_input, n_features))\n",
    "\n",
    "for i in range(30): # since 1 month\n",
    "    \n",
    "    # get the prediction value for the first batch\n",
    "    current_pred = model.predict(current_batch)[0]\n",
    "    \n",
    "    # append the prediction into the array\n",
    "    test_predictions.append(current_pred) \n",
    "    \n",
    "    # use the prediction to update the batch and remove the first value\n",
    "    current_batch = np.append(current_batch[:,1:,:],[[current_pred]],axis=1)"
   ]
  },
  {
   "cell_type": "code",
   "execution_count": 156,
   "metadata": {},
   "outputs": [
    {
     "data": {
      "text/plain": [
       "[array([1.3236516], dtype=float32),\n",
       " array([1.3232512], dtype=float32),\n",
       " array([1.3238195], dtype=float32),\n",
       " array([1.3625758], dtype=float32),\n",
       " array([1.1616662], dtype=float32),\n",
       " array([1.1107836], dtype=float32),\n",
       " array([1.0851421], dtype=float32),\n",
       " array([1.0726783], dtype=float32),\n",
       " array([1.0472991], dtype=float32),\n",
       " array([1.0189874], dtype=float32),\n",
       " array([0.9848388], dtype=float32),\n",
       " array([0.940304], dtype=float32),\n",
       " array([0.9086131], dtype=float32),\n",
       " array([0.8801153], dtype=float32),\n",
       " array([0.851084], dtype=float32),\n",
       " array([0.8198565], dtype=float32),\n",
       " array([0.7867757], dtype=float32),\n",
       " array([0.751746], dtype=float32),\n",
       " array([0.71503717], dtype=float32),\n",
       " array([0.6789323], dtype=float32),\n",
       " array([0.6424544], dtype=float32),\n",
       " array([0.6045427], dtype=float32),\n",
       " array([0.5661547], dtype=float32),\n",
       " array([0.5271629], dtype=float32),\n",
       " array([0.48831892], dtype=float32),\n",
       " array([0.4499431], dtype=float32),\n",
       " array([0.4123928], dtype=float32),\n",
       " array([0.37552583], dtype=float32),\n",
       " array([0.34020782], dtype=float32),\n",
       " array([0.30669516], dtype=float32)]"
      ]
     },
     "execution_count": 156,
     "metadata": {},
     "output_type": "execute_result"
    }
   ],
   "source": [
    "test_predictions"
   ]
  },
  {
   "cell_type": "code",
   "execution_count": 157,
   "metadata": {},
   "outputs": [
    {
     "data": {
      "text/plain": [
       "array([[7.530806 ],\n",
       "       [7.5286255],\n",
       "       [7.5317206],\n",
       "       [7.742818 ],\n",
       "       [6.6485057],\n",
       "       [6.3713593],\n",
       "       [6.2316957],\n",
       "       [6.163808 ],\n",
       "       [6.025573 ],\n",
       "       [5.871365 ],\n",
       "       [5.6853647],\n",
       "       [5.442793 ],\n",
       "       [5.2701797],\n",
       "       [5.1149583],\n",
       "       [4.956831 ],\n",
       "       [4.7867413],\n",
       "       [4.606557 ],\n",
       "       [4.415758 ],\n",
       "       [4.2158127],\n",
       "       [4.0191574],\n",
       "       [3.8204699],\n",
       "       [3.6139724],\n",
       "       [3.4048815],\n",
       "       [3.1925015],\n",
       "       [2.9809265],\n",
       "       [2.7719014],\n",
       "       [2.567373 ],\n",
       "       [2.3665664],\n",
       "       [2.1741967],\n",
       "       [1.9916606]], dtype=float32)"
      ]
     },
     "execution_count": 157,
     "metadata": {},
     "output_type": "execute_result"
    }
   ],
   "source": [
    "true_forecast = scaler.inverse_transform(test_predictions)\n",
    "price_forecast=true_forecast/135\n",
    "price_forecast"
   ]
  },
  {
   "cell_type": "code",
   "execution_count": 128,
   "metadata": {},
   "outputs": [],
   "source": [
    "dates=[]\n",
    "import datetime\n",
    "datelist = pd.date_range(datetime.datetime.today(), periods=30).tolist()\n",
    "for i in datelist:\n",
    "    dates.append(str(i.date()))"
   ]
  },
  {
   "cell_type": "code",
   "execution_count": 158,
   "metadata": {},
   "outputs": [
    {
     "data": {
      "text/html": [
       "<div>\n",
       "<style scoped>\n",
       "    .dataframe tbody tr th:only-of-type {\n",
       "        vertical-align: middle;\n",
       "    }\n",
       "\n",
       "    .dataframe tbody tr th {\n",
       "        vertical-align: top;\n",
       "    }\n",
       "\n",
       "    .dataframe thead th {\n",
       "        text-align: right;\n",
       "    }\n",
       "</style>\n",
       "<table border=\"1\" class=\"dataframe\">\n",
       "  <thead>\n",
       "    <tr style=\"text-align: right;\">\n",
       "      <th></th>\n",
       "      <th>Price</th>\n",
       "    </tr>\n",
       "    <tr>\n",
       "      <th>Date</th>\n",
       "      <th></th>\n",
       "    </tr>\n",
       "  </thead>\n",
       "  <tbody>\n",
       "    <tr>\n",
       "      <th>2022-11-04</th>\n",
       "      <td>7.530806</td>\n",
       "    </tr>\n",
       "    <tr>\n",
       "      <th>2022-11-05</th>\n",
       "      <td>7.528625</td>\n",
       "    </tr>\n",
       "    <tr>\n",
       "      <th>2022-11-06</th>\n",
       "      <td>7.531721</td>\n",
       "    </tr>\n",
       "    <tr>\n",
       "      <th>2022-11-07</th>\n",
       "      <td>7.742818</td>\n",
       "    </tr>\n",
       "    <tr>\n",
       "      <th>2022-11-08</th>\n",
       "      <td>6.648506</td>\n",
       "    </tr>\n",
       "    <tr>\n",
       "      <th>2022-11-09</th>\n",
       "      <td>6.371359</td>\n",
       "    </tr>\n",
       "    <tr>\n",
       "      <th>2022-11-10</th>\n",
       "      <td>6.231696</td>\n",
       "    </tr>\n",
       "    <tr>\n",
       "      <th>2022-11-11</th>\n",
       "      <td>6.163808</td>\n",
       "    </tr>\n",
       "    <tr>\n",
       "      <th>2022-11-12</th>\n",
       "      <td>6.025573</td>\n",
       "    </tr>\n",
       "    <tr>\n",
       "      <th>2022-11-13</th>\n",
       "      <td>5.871365</td>\n",
       "    </tr>\n",
       "    <tr>\n",
       "      <th>2022-11-14</th>\n",
       "      <td>5.685365</td>\n",
       "    </tr>\n",
       "    <tr>\n",
       "      <th>2022-11-15</th>\n",
       "      <td>5.442793</td>\n",
       "    </tr>\n",
       "    <tr>\n",
       "      <th>2022-11-16</th>\n",
       "      <td>5.270180</td>\n",
       "    </tr>\n",
       "    <tr>\n",
       "      <th>2022-11-17</th>\n",
       "      <td>5.114958</td>\n",
       "    </tr>\n",
       "    <tr>\n",
       "      <th>2022-11-18</th>\n",
       "      <td>4.956831</td>\n",
       "    </tr>\n",
       "    <tr>\n",
       "      <th>2022-11-19</th>\n",
       "      <td>4.786741</td>\n",
       "    </tr>\n",
       "    <tr>\n",
       "      <th>2022-11-20</th>\n",
       "      <td>4.606557</td>\n",
       "    </tr>\n",
       "    <tr>\n",
       "      <th>2022-11-21</th>\n",
       "      <td>4.415758</td>\n",
       "    </tr>\n",
       "    <tr>\n",
       "      <th>2022-11-22</th>\n",
       "      <td>4.215813</td>\n",
       "    </tr>\n",
       "    <tr>\n",
       "      <th>2022-11-23</th>\n",
       "      <td>4.019157</td>\n",
       "    </tr>\n",
       "    <tr>\n",
       "      <th>2022-11-24</th>\n",
       "      <td>3.820470</td>\n",
       "    </tr>\n",
       "    <tr>\n",
       "      <th>2022-11-25</th>\n",
       "      <td>3.613972</td>\n",
       "    </tr>\n",
       "    <tr>\n",
       "      <th>2022-11-26</th>\n",
       "      <td>3.404881</td>\n",
       "    </tr>\n",
       "    <tr>\n",
       "      <th>2022-11-27</th>\n",
       "      <td>3.192502</td>\n",
       "    </tr>\n",
       "    <tr>\n",
       "      <th>2022-11-28</th>\n",
       "      <td>2.980927</td>\n",
       "    </tr>\n",
       "    <tr>\n",
       "      <th>2022-11-29</th>\n",
       "      <td>2.771901</td>\n",
       "    </tr>\n",
       "    <tr>\n",
       "      <th>2022-11-30</th>\n",
       "      <td>2.567373</td>\n",
       "    </tr>\n",
       "    <tr>\n",
       "      <th>2022-12-01</th>\n",
       "      <td>2.366566</td>\n",
       "    </tr>\n",
       "    <tr>\n",
       "      <th>2022-12-02</th>\n",
       "      <td>2.174197</td>\n",
       "    </tr>\n",
       "    <tr>\n",
       "      <th>2022-12-03</th>\n",
       "      <td>1.991661</td>\n",
       "    </tr>\n",
       "  </tbody>\n",
       "</table>\n",
       "</div>"
      ],
      "text/plain": [
       "               Price\n",
       "Date                \n",
       "2022-11-04  7.530806\n",
       "2022-11-05  7.528625\n",
       "2022-11-06  7.531721\n",
       "2022-11-07  7.742818\n",
       "2022-11-08  6.648506\n",
       "2022-11-09  6.371359\n",
       "2022-11-10  6.231696\n",
       "2022-11-11  6.163808\n",
       "2022-11-12  6.025573\n",
       "2022-11-13  5.871365\n",
       "2022-11-14  5.685365\n",
       "2022-11-15  5.442793\n",
       "2022-11-16  5.270180\n",
       "2022-11-17  5.114958\n",
       "2022-11-18  4.956831\n",
       "2022-11-19  4.786741\n",
       "2022-11-20  4.606557\n",
       "2022-11-21  4.415758\n",
       "2022-11-22  4.215813\n",
       "2022-11-23  4.019157\n",
       "2022-11-24  3.820470\n",
       "2022-11-25  3.613972\n",
       "2022-11-26  3.404881\n",
       "2022-11-27  3.192502\n",
       "2022-11-28  2.980927\n",
       "2022-11-29  2.771901\n",
       "2022-11-30  2.567373\n",
       "2022-12-01  2.366566\n",
       "2022-12-02  2.174197\n",
       "2022-12-03  1.991661"
      ]
     },
     "execution_count": 158,
     "metadata": {},
     "output_type": "execute_result"
    }
   ],
   "source": [
    "forecast_df=pd.DataFrame(dates,columns=['Date'])\n",
    "forecast_df['Price']=price_forecast\n",
    "forecast_df.set_index('Date',inplace=True)\n",
    "forecast_df"
   ]
  },
  {
   "cell_type": "code",
   "execution_count": null,
   "metadata": {},
   "outputs": [],
   "source": []
  }
 ],
 "metadata": {
  "colab": {
   "provenance": []
  },
  "kernelspec": {
   "display_name": "Python 3 (ipykernel)",
   "language": "python",
   "name": "python3"
  },
  "language_info": {
   "codemirror_mode": {
    "name": "ipython",
    "version": 3
   },
   "file_extension": ".py",
   "mimetype": "text/x-python",
   "name": "python",
   "nbconvert_exporter": "python",
   "pygments_lexer": "ipython3",
   "version": "3.7.8"
  }
 },
 "nbformat": 4,
 "nbformat_minor": 1
}
