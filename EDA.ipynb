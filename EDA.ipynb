{
 "cells": [
  {
   "cell_type": "code",
   "execution_count": 1,
   "id": "ed1e3081",
   "metadata": {},
   "outputs": [],
   "source": [
    "import pandas as pd\n",
    "import matplotlib.pyplot as plt\n",
    "import seaborn as sns"
   ]
  },
  {
   "cell_type": "code",
   "execution_count": 2,
   "id": "4ce65212",
   "metadata": {},
   "outputs": [
    {
     "name": "stderr",
     "output_type": "stream",
     "text": [
      "c:\\users\\divya\\appdata\\local\\programs\\python\\python37\\lib\\site-packages\\IPython\\core\\interactiveshell.py:3441: DtypeWarning: Columns (0,2,8,9,10) have mixed types.Specify dtype option on import or set low_memory=False.\n",
      "  exec(code_obj, self.user_global_ns, self.user_ns)\n"
     ]
    },
    {
     "data": {
      "text/html": [
       "<div>\n",
       "<style scoped>\n",
       "    .dataframe tbody tr th:only-of-type {\n",
       "        vertical-align: middle;\n",
       "    }\n",
       "\n",
       "    .dataframe tbody tr th {\n",
       "        vertical-align: top;\n",
       "    }\n",
       "\n",
       "    .dataframe thead th {\n",
       "        text-align: right;\n",
       "    }\n",
       "</style>\n",
       "<table border=\"1\" class=\"dataframe\">\n",
       "  <thead>\n",
       "    <tr style=\"text-align: right;\">\n",
       "      <th></th>\n",
       "      <th>Smart_contract</th>\n",
       "      <th>ID_token</th>\n",
       "      <th>Transaction_hash</th>\n",
       "      <th>Seller_address</th>\n",
       "      <th>Seller_username</th>\n",
       "      <th>Buyer_address</th>\n",
       "      <th>Buyer_username</th>\n",
       "      <th>Image_url_1</th>\n",
       "      <th>Image_url_2</th>\n",
       "      <th>Image_url_3</th>\n",
       "      <th>...</th>\n",
       "      <th>Name</th>\n",
       "      <th>Description</th>\n",
       "      <th>Collection</th>\n",
       "      <th>Market</th>\n",
       "      <th>Datetime_updated</th>\n",
       "      <th>Datetime_updated_seconds</th>\n",
       "      <th>Permanent_link</th>\n",
       "      <th>Unique_id_collection</th>\n",
       "      <th>Collection_cleaned</th>\n",
       "      <th>Category</th>\n",
       "    </tr>\n",
       "  </thead>\n",
       "  <tbody>\n",
       "    <tr>\n",
       "      <th>0</th>\n",
       "      <td>NaN</td>\n",
       "      <td>87094722.0</td>\n",
       "      <td>0xed9ff1c311a611e5c457ce0a49bbbb7ed55efca98842...</td>\n",
       "      <td>0x76481caa104b5f6bccb540dae4cefaf1c398ebea</td>\n",
       "      <td>NaN</td>\n",
       "      <td>0xe0fb7622091e3d9ef9b438471b10b9ea88c7cf6b</td>\n",
       "      <td>NaN</td>\n",
       "      <td>https://card.godsunchained.com/?id=33&amp;q=4</td>\n",
       "      <td>NaN</td>\n",
       "      <td>NaN</td>\n",
       "      <td>...</td>\n",
       "      <td>NaN</td>\n",
       "      <td>NaN</td>\n",
       "      <td>Godsunchained</td>\n",
       "      <td>Godsunchained</td>\n",
       "      <td>2019-11-30</td>\n",
       "      <td>2019-11-30 23:59:33</td>\n",
       "      <td>NaN</td>\n",
       "      <td>('Godsunchained', '87094722.0')</td>\n",
       "      <td>Godsunchained</td>\n",
       "      <td>Games</td>\n",
       "    </tr>\n",
       "    <tr>\n",
       "      <th>1</th>\n",
       "      <td>NaN</td>\n",
       "      <td>73044643.0</td>\n",
       "      <td>0xbc8412594ffa7382e8306215ece5b4e041fc641b1813...</td>\n",
       "      <td>0x76481caa104b5f6bccb540dae4cefaf1c398ebea</td>\n",
       "      <td>NaN</td>\n",
       "      <td>0x2c00d05ff7ffe93d77145dfe12aa56e622ae6f40</td>\n",
       "      <td>NaN</td>\n",
       "      <td>https://card.godsunchained.com/?id=79&amp;q=4</td>\n",
       "      <td>NaN</td>\n",
       "      <td>NaN</td>\n",
       "      <td>...</td>\n",
       "      <td>NaN</td>\n",
       "      <td>NaN</td>\n",
       "      <td>Godsunchained</td>\n",
       "      <td>Godsunchained</td>\n",
       "      <td>2019-11-30</td>\n",
       "      <td>2019-11-30 23:59:33</td>\n",
       "      <td>NaN</td>\n",
       "      <td>('Godsunchained', '73044643.0')</td>\n",
       "      <td>Godsunchained</td>\n",
       "      <td>Games</td>\n",
       "    </tr>\n",
       "    <tr>\n",
       "      <th>2</th>\n",
       "      <td>NaN</td>\n",
       "      <td>17107482.0</td>\n",
       "      <td>0x92672baf5e9e23de230dee8e57ddf443ab6d5a336341...</td>\n",
       "      <td>0x76481caa104b5f6bccb540dae4cefaf1c398ebea</td>\n",
       "      <td>NaN</td>\n",
       "      <td>0xe0fb7622091e3d9ef9b438471b10b9ea88c7cf6b</td>\n",
       "      <td>NaN</td>\n",
       "      <td>https://card.godsunchained.com/?id=33&amp;q=4</td>\n",
       "      <td>NaN</td>\n",
       "      <td>NaN</td>\n",
       "      <td>...</td>\n",
       "      <td>NaN</td>\n",
       "      <td>NaN</td>\n",
       "      <td>Godsunchained</td>\n",
       "      <td>Godsunchained</td>\n",
       "      <td>2019-11-30</td>\n",
       "      <td>2019-11-30 23:59:33</td>\n",
       "      <td>NaN</td>\n",
       "      <td>('Godsunchained', '17107482.0')</td>\n",
       "      <td>Godsunchained</td>\n",
       "      <td>Games</td>\n",
       "    </tr>\n",
       "    <tr>\n",
       "      <th>3</th>\n",
       "      <td>NaN</td>\n",
       "      <td>82230857.0</td>\n",
       "      <td>0x3d157249e3083622c2d756f07a05caa3a76687288b32...</td>\n",
       "      <td>0x76481caa104b5f6bccb540dae4cefaf1c398ebea</td>\n",
       "      <td>NaN</td>\n",
       "      <td>0x2c00d05ff7ffe93d77145dfe12aa56e622ae6f40</td>\n",
       "      <td>NaN</td>\n",
       "      <td>https://card.godsunchained.com/?id=227&amp;q=4</td>\n",
       "      <td>NaN</td>\n",
       "      <td>NaN</td>\n",
       "      <td>...</td>\n",
       "      <td>NaN</td>\n",
       "      <td>NaN</td>\n",
       "      <td>Godsunchained</td>\n",
       "      <td>Godsunchained</td>\n",
       "      <td>2019-11-30</td>\n",
       "      <td>2019-11-30 23:59:33</td>\n",
       "      <td>NaN</td>\n",
       "      <td>('Godsunchained', '82230857.0')</td>\n",
       "      <td>Godsunchained</td>\n",
       "      <td>Games</td>\n",
       "    </tr>\n",
       "    <tr>\n",
       "      <th>4</th>\n",
       "      <td>NaN</td>\n",
       "      <td>40925443.0</td>\n",
       "      <td>0xa892b3569dc8e6b3c7db93aade62372637ebbc61fb63...</td>\n",
       "      <td>0x76481caa104b5f6bccb540dae4cefaf1c398ebea</td>\n",
       "      <td>NaN</td>\n",
       "      <td>0x2c00d05ff7ffe93d77145dfe12aa56e622ae6f40</td>\n",
       "      <td>NaN</td>\n",
       "      <td>https://card.godsunchained.com/?id=62&amp;q=4</td>\n",
       "      <td>NaN</td>\n",
       "      <td>NaN</td>\n",
       "      <td>...</td>\n",
       "      <td>NaN</td>\n",
       "      <td>NaN</td>\n",
       "      <td>Godsunchained</td>\n",
       "      <td>Godsunchained</td>\n",
       "      <td>2019-11-30</td>\n",
       "      <td>2019-11-30 23:58:44</td>\n",
       "      <td>NaN</td>\n",
       "      <td>('Godsunchained', '40925443.0')</td>\n",
       "      <td>Godsunchained</td>\n",
       "      <td>Games</td>\n",
       "    </tr>\n",
       "  </tbody>\n",
       "</table>\n",
       "<p>5 rows × 24 columns</p>\n",
       "</div>"
      ],
      "text/plain": [
       "  Smart_contract    ID_token  \\\n",
       "0            NaN  87094722.0   \n",
       "1            NaN  73044643.0   \n",
       "2            NaN  17107482.0   \n",
       "3            NaN  82230857.0   \n",
       "4            NaN  40925443.0   \n",
       "\n",
       "                                    Transaction_hash  \\\n",
       "0  0xed9ff1c311a611e5c457ce0a49bbbb7ed55efca98842...   \n",
       "1  0xbc8412594ffa7382e8306215ece5b4e041fc641b1813...   \n",
       "2  0x92672baf5e9e23de230dee8e57ddf443ab6d5a336341...   \n",
       "3  0x3d157249e3083622c2d756f07a05caa3a76687288b32...   \n",
       "4  0xa892b3569dc8e6b3c7db93aade62372637ebbc61fb63...   \n",
       "\n",
       "                               Seller_address  Seller_username  \\\n",
       "0  0x76481caa104b5f6bccb540dae4cefaf1c398ebea              NaN   \n",
       "1  0x76481caa104b5f6bccb540dae4cefaf1c398ebea              NaN   \n",
       "2  0x76481caa104b5f6bccb540dae4cefaf1c398ebea              NaN   \n",
       "3  0x76481caa104b5f6bccb540dae4cefaf1c398ebea              NaN   \n",
       "4  0x76481caa104b5f6bccb540dae4cefaf1c398ebea              NaN   \n",
       "\n",
       "                                Buyer_address  Buyer_username  \\\n",
       "0  0xe0fb7622091e3d9ef9b438471b10b9ea88c7cf6b             NaN   \n",
       "1  0x2c00d05ff7ffe93d77145dfe12aa56e622ae6f40             NaN   \n",
       "2  0xe0fb7622091e3d9ef9b438471b10b9ea88c7cf6b             NaN   \n",
       "3  0x2c00d05ff7ffe93d77145dfe12aa56e622ae6f40             NaN   \n",
       "4  0x2c00d05ff7ffe93d77145dfe12aa56e622ae6f40             NaN   \n",
       "\n",
       "                                  Image_url_1 Image_url_2 Image_url_3  ...  \\\n",
       "0   https://card.godsunchained.com/?id=33&q=4         NaN         NaN  ...   \n",
       "1   https://card.godsunchained.com/?id=79&q=4         NaN         NaN  ...   \n",
       "2   https://card.godsunchained.com/?id=33&q=4         NaN         NaN  ...   \n",
       "3  https://card.godsunchained.com/?id=227&q=4         NaN         NaN  ...   \n",
       "4   https://card.godsunchained.com/?id=62&q=4         NaN         NaN  ...   \n",
       "\n",
       "  Name  Description     Collection         Market  Datetime_updated  \\\n",
       "0  NaN          NaN  Godsunchained  Godsunchained        2019-11-30   \n",
       "1  NaN          NaN  Godsunchained  Godsunchained        2019-11-30   \n",
       "2  NaN          NaN  Godsunchained  Godsunchained        2019-11-30   \n",
       "3  NaN          NaN  Godsunchained  Godsunchained        2019-11-30   \n",
       "4  NaN          NaN  Godsunchained  Godsunchained        2019-11-30   \n",
       "\n",
       "   Datetime_updated_seconds Permanent_link             Unique_id_collection  \\\n",
       "0       2019-11-30 23:59:33            NaN  ('Godsunchained', '87094722.0')   \n",
       "1       2019-11-30 23:59:33            NaN  ('Godsunchained', '73044643.0')   \n",
       "2       2019-11-30 23:59:33            NaN  ('Godsunchained', '17107482.0')   \n",
       "3       2019-11-30 23:59:33            NaN  ('Godsunchained', '82230857.0')   \n",
       "4       2019-11-30 23:58:44            NaN  ('Godsunchained', '40925443.0')   \n",
       "\n",
       "  Collection_cleaned Category  \n",
       "0      Godsunchained    Games  \n",
       "1      Godsunchained    Games  \n",
       "2      Godsunchained    Games  \n",
       "3      Godsunchained    Games  \n",
       "4      Godsunchained    Games  \n",
       "\n",
       "[5 rows x 24 columns]"
      ]
     },
     "execution_count": 2,
     "metadata": {},
     "output_type": "execute_result"
    }
   ],
   "source": [
    "data=pd.read_csv('nft.csv')\n",
    "data['Datetime_updated'] = pd.to_datetime(data['Datetime_updated'])\n",
    "\n",
    "data.head()"
   ]
  },
  {
   "cell_type": "code",
   "execution_count": 5,
   "id": "375293e3",
   "metadata": {},
   "outputs": [
    {
     "data": {
      "text/plain": [
       "Index(['Smart_contract', 'ID_token', 'Transaction_hash', 'Seller_address',\n",
       "       'Seller_username', 'Buyer_address', 'Buyer_username', 'Image_url_1',\n",
       "       'Image_url_2', 'Image_url_3', 'Image_url_4', 'Price_Crypto', 'Crypto',\n",
       "       'Price_USD', 'Name', 'Description', 'Collection', 'Market',\n",
       "       'Datetime_updated', 'Datetime_updated_seconds', 'Permanent_link',\n",
       "       'Unique_id_collection', 'Collection_cleaned', 'Category'],\n",
       "      dtype='object')"
      ]
     },
     "execution_count": 5,
     "metadata": {},
     "output_type": "execute_result"
    }
   ],
   "source": [
    "data.columns"
   ]
  },
  {
   "cell_type": "code",
   "execution_count": 3,
   "id": "be412541",
   "metadata": {},
   "outputs": [
    {
     "data": {
      "text/plain": [
       "(1000000, 24)"
      ]
     },
     "execution_count": 3,
     "metadata": {},
     "output_type": "execute_result"
    }
   ],
   "source": [
    "data.shape"
   ]
  },
  {
   "cell_type": "code",
   "execution_count": 4,
   "id": "2562df03",
   "metadata": {},
   "outputs": [
    {
     "name": "stdout",
     "output_type": "stream",
     "text": [
      "<class 'pandas.core.frame.DataFrame'>\n",
      "RangeIndex: 1000000 entries, 0 to 999999\n",
      "Data columns (total 24 columns):\n",
      " #   Column                    Non-Null Count    Dtype         \n",
      "---  ------                    --------------    -----         \n",
      " 0   Smart_contract            38390 non-null    object        \n",
      " 1   ID_token                  1000000 non-null  float64       \n",
      " 2   Transaction_hash          961262 non-null   object        \n",
      " 3   Seller_address            1000000 non-null  object        \n",
      " 4   Seller_username           0 non-null        float64       \n",
      " 5   Buyer_address             1000000 non-null  object        \n",
      " 6   Buyer_username            0 non-null        float64       \n",
      " 7   Image_url_1               999251 non-null   object        \n",
      " 8   Image_url_2               37641 non-null    object        \n",
      " 9   Image_url_3               37641 non-null    object        \n",
      " 10  Image_url_4               37641 non-null    object        \n",
      " 11  Price_Crypto              1000000 non-null  float64       \n",
      " 12  Crypto                    1000000 non-null  object        \n",
      " 13  Price_USD                 999652 non-null   float64       \n",
      " 14  Name                      0 non-null        float64       \n",
      " 15  Description               0 non-null        float64       \n",
      " 16  Collection                1000000 non-null  object        \n",
      " 17  Market                    1000000 non-null  object        \n",
      " 18  Datetime_updated          1000000 non-null  datetime64[ns]\n",
      " 19  Datetime_updated_seconds  1000000 non-null  object        \n",
      " 20  Permanent_link            0 non-null        float64       \n",
      " 21  Unique_id_collection      1000000 non-null  object        \n",
      " 22  Collection_cleaned        1000000 non-null  object        \n",
      " 23  Category                  1000000 non-null  object        \n",
      "dtypes: datetime64[ns](1), float64(8), object(15)\n",
      "memory usage: 183.1+ MB\n"
     ]
    }
   ],
   "source": [
    "data.info()"
   ]
  },
  {
   "cell_type": "code",
   "execution_count": 8,
   "id": "a3933116",
   "metadata": {},
   "outputs": [
    {
     "data": {
      "text/plain": [
       "Smart_contract               961610\n",
       "ID_token                          0\n",
       "Transaction_hash              38738\n",
       "Seller_address                    0\n",
       "Seller_username             1000000\n",
       "Buyer_address                     0\n",
       "Buyer_username              1000000\n",
       "Image_url_1                     749\n",
       "Image_url_2                  962359\n",
       "Image_url_3                  962359\n",
       "Image_url_4                  962359\n",
       "Price_Crypto                      0\n",
       "Crypto                            0\n",
       "Price_USD                       348\n",
       "Name                        1000000\n",
       "Description                 1000000\n",
       "Collection                        0\n",
       "Market                            0\n",
       "Datetime_updated                  0\n",
       "Datetime_updated_seconds          0\n",
       "Permanent_link              1000000\n",
       "Unique_id_collection              0\n",
       "Collection_cleaned                0\n",
       "Category                          0\n",
       "dtype: int64"
      ]
     },
     "execution_count": 8,
     "metadata": {},
     "output_type": "execute_result"
    }
   ],
   "source": [
    "data.isna().sum()"
   ]
  },
  {
   "cell_type": "code",
   "execution_count": 9,
   "id": "ae2b7422",
   "metadata": {},
   "outputs": [
    {
     "data": {
      "text/plain": [
       "Art            725412\n",
       "Games          260825\n",
       "Collectible     11335\n",
       "Other            2428\n",
       "Name: Category, dtype: int64"
      ]
     },
     "execution_count": 9,
     "metadata": {},
     "output_type": "execute_result"
    }
   ],
   "source": [
    "data['Category'].value_counts()"
   ]
  },
  {
   "cell_type": "code",
   "execution_count": 10,
   "id": "6225aadc",
   "metadata": {},
   "outputs": [
    {
     "data": {
      "text/plain": [
       "Cryptokitties    725400\n",
       "Godsunchained    236210\n",
       "kogsofficial      24216\n",
       "officialhero       6307\n",
       "gpk.topps          3393\n",
       "                  ...  \n",
       "pxlshifttime          1\n",
       "hotsaucenfts          1\n",
       "onchainasset          1\n",
       "rektrektrekt          1\n",
       "3xp3rim3ntal          1\n",
       "Name: Collection, Length: 161, dtype: int64"
      ]
     },
     "execution_count": 10,
     "metadata": {},
     "output_type": "execute_result"
    }
   ],
   "source": [
    "data['Collection'].value_counts()"
   ]
  },
  {
   "cell_type": "code",
   "execution_count": 11,
   "id": "74e00c07",
   "metadata": {},
   "outputs": [],
   "source": [
    "sorted_data=pd.Series(data['Collection'].value_counts()[:10])"
   ]
  },
  {
   "cell_type": "code",
   "execution_count": 12,
   "id": "4b15d1b5",
   "metadata": {},
   "outputs": [
    {
     "data": {
      "text/plain": [
       "Cryptokitties    725400\n",
       "Godsunchained    236210\n",
       "kogsofficial      24216\n",
       "officialhero       6307\n",
       "gpk.topps          3393\n",
       "niftywizards        810\n",
       "upliftart           322\n",
       "cheesmansart        272\n",
       "chibisglobal        239\n",
       "pepe.hero           179\n",
       "Name: Collection, dtype: int64"
      ]
     },
     "execution_count": 12,
     "metadata": {},
     "output_type": "execute_result"
    }
   ],
   "source": [
    "sorted_data"
   ]
  },
  {
   "cell_type": "code",
   "execution_count": 13,
   "id": "1cbab298",
   "metadata": {},
   "outputs": [
    {
     "data": {
      "text/plain": [
       "<matplotlib.legend.Legend at 0x1e9c57e5508>"
      ]
     },
     "execution_count": 13,
     "metadata": {},
     "output_type": "execute_result"
    },
    {
     "data": {
      "image/png": "[encoded data removed]",
      "text/plain": [
       "<Figure size 432x288 with 1 Axes>"
      ]
     },
     "metadata": {
      "needs_background": "light"
     },
     "output_type": "display_data"
    }
   ],
   "source": [
    "sns.countplot(y=\"Collection\", hue=\"Category\", data=data,\n",
    "              order=data['Collection'].value_counts().iloc[:5].index)\n",
    "plt.legend(loc='center right', title='Category')"
   ]
  },
  {
   "cell_type": "code",
   "execution_count": 14,
   "id": "ac974728",
   "metadata": {},
   "outputs": [],
   "source": [
    "daily_volume = data.set_index('Datetime_updated').groupby('Collection') \\\n",
    "                .Price_USD.resample('1D').sum().reset_index()\n",
    "daily_volume = daily_volume.set_index('Datetime_updated')"
   ]
  },
  {
   "cell_type": "code",
   "execution_count": 15,
   "id": "2b0d9430",
   "metadata": {},
   "outputs": [
    {
     "data": {
      "image/png": "[encoded data removed]",
      "text/plain": [
       "<Figure size 1080x576 with 1 Axes>"
      ]
     },
     "metadata": {
      "needs_background": "light"
     },
     "output_type": "display_data"
    }
   ],
   "source": [
    "plt.figure(figsize=(15,8))\n",
    "daily_volume[daily_volume['Collection'] == 'Cryptokitties']['Price_USD'].plot(label='CryptoKitties')\n",
    "daily_volume[daily_volume['Collection'] == 'Godsunchained']['Price_USD'].plot(label='Godsunchained')\n",
    "plt.ylabel('Price_USD')\n",
    "plt.legend()\n",
    "plt.show()"
   ]
  },
  {
   "cell_type": "code",
   "execution_count": 4,
   "id": "ab3190d8",
   "metadata": {},
   "outputs": [],
   "source": [
    "year=data['Datetime_updated'].dt.year"
   ]
  },
  {
   "cell_type": "code",
   "execution_count": 5,
   "id": "f627872d",
   "metadata": {},
   "outputs": [
    {
     "data": {
      "text/plain": [
       "<AxesSubplot:xlabel='Datetime_updated', ylabel='count'>"
      ]
     },
     "execution_count": 5,
     "metadata": {},
     "output_type": "execute_result"
    },
    {
     "data": {
      "image/png": "[encoded data removed]",
      "text/plain": [
       "<Figure size 432x288 with 1 Axes>"
      ]
     },
     "metadata": {
      "needs_background": "light"
     },
     "output_type": "display_data"
    }
   ],
   "source": [
    "sns.countplot(x=year,data=data)"
   ]
  },
  {
   "cell_type": "code",
   "execution_count": 40,
   "id": "d43bb6bf",
   "metadata": {},
   "outputs": [
    {
     "data": {
      "text/plain": [
       "count    999652.000000\n",
       "mean         33.854156\n",
       "std         630.683790\n",
       "min           0.000000\n",
       "25%           0.593225\n",
       "50%           3.462094\n",
       "75%          14.139700\n",
       "max      173559.000000\n",
       "Name: Price_USD, dtype: object"
      ]
     },
     "execution_count": 40,
     "metadata": {},
     "output_type": "execute_result"
    }
   ],
   "source": [
    "data['Price_USD'].describe().apply(lambda x: format(x, 'f'))"
   ]
  },
  {
   "cell_type": "code",
   "execution_count": 48,
   "id": "646eb04b",
   "metadata": {},
   "outputs": [
    {
     "data": {
      "image/png": "[encoded data removed]",
      "text/plain": [
       "<Figure size 432x432 with 1 Axes>"
      ]
     },
     "metadata": {
      "needs_background": "light"
     },
     "output_type": "display_data"
    }
   ],
   "source": [
    "plt.figure(figsize=(6,6))\n",
    "sns.histplot(data=data[:100000], x=\"Price_USD\")\n",
    "plt.xlim(xmin=0, xmax = 10)\n",
    "plt.show()"
   ]
  },
  {
   "cell_type": "code",
   "execution_count": null,
   "id": "27e82a2a",
   "metadata": {},
   "outputs": [],
   "source": []
  }
 ],
 "metadata": {
  "kernelspec": {
   "display_name": "Python 3 (ipykernel)",
   "language": "python",
   "name": "python3"
  },
  "language_info": {
   "codemirror_mode": {
    "name": "ipython",
    "version": 3
   },
   "file_extension": ".py",
   "mimetype": "text/x-python",
   "name": "python",
   "nbconvert_exporter": "python",
   "pygments_lexer": "ipython3",
   "version": "3.7.8"
  }
 },
 "nbformat": 4,
 "nbformat_minor": 5
}
